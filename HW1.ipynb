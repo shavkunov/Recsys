{
 "cells": [
  {
   "cell_type": "markdown",
   "metadata": {},
   "source": [
    "### Матричные факторизации"
   ]
  },
  {
   "cell_type": "markdown",
   "metadata": {},
   "source": [
    "В данной работе вам предстоит познакомиться с практической стороной матричных разложений.\n",
    "Работа поделена на 4 задания:\n",
    "1. Вам необходимо реализовать SVD разложения используя SGD на explicit данных\n",
    "2. Вам необходимо реализовать матричное разложения используя ALS на implicit данных\n",
    "3. Вам необходимо реализовать матричное разложения используя BPR(pair-wise loss) на implicit данных\n",
    "4. Вам необходимо реализовать матричное разложения используя WARP(list-wise loss) на implicit данных\n",
    "\n",
    "Мягкий дедлайн 28 Сентября (пишутся замечания, выставляется оценка, есть возможность исправить до жесткого дедлайна)\n",
    "\n",
    "Жесткий дедлайн 5 Октября (Итоговая проверка)"
   ]
  },
  {
   "cell_type": "code",
   "execution_count": 1,
   "metadata": {
    "ExecuteTime": {
     "end_time": "2020-09-28T20:23:03.160748Z",
     "start_time": "2020-09-28T20:22:59.401341Z"
    }
   },
   "outputs": [
    {
     "name": "stderr",
     "output_type": "stream",
     "text": [
      "c:\\users\\user\\appdata\\local\\programs\\python\\python36\\lib\\site-packages\\numpy\\_distributor_init.py:32: UserWarning: loaded more than 1 DLL from .libs:\n",
      "c:\\users\\user\\appdata\\local\\programs\\python\\python36\\lib\\site-packages\\numpy\\.libs\\libopenblas.noijjg62emaszi6nyurl6jbkm4evbgm7.gfortran-win_amd64.dll\n",
      "c:\\users\\user\\appdata\\local\\programs\\python\\python36\\lib\\site-packages\\numpy\\.libs\\libopenblas.PYQHXLVVQ7VESDPUVUADXEVJOBGHJPAY.gfortran-win_amd64.dll\n",
      "  stacklevel=1)\n"
     ]
    }
   ],
   "source": [
    "import implicit\n",
    "import pandas as pd\n",
    "import numpy as np\n",
    "import scipy.sparse as sp"
   ]
  },
  {
   "cell_type": "markdown",
   "metadata": {},
   "source": [
    "В данной работе мы будем работать с explicit датасетом movieLens, в котором представленны пары user_id movie_id и rating выставленный пользователем фильму\n",
    "\n",
    "Скачать датасет можно по ссылке https://grouplens.org/datasets/movielens/1m/"
   ]
  },
  {
   "cell_type": "code",
   "execution_count": 2,
   "metadata": {
    "ExecuteTime": {
     "end_time": "2020-09-28T20:23:07.829818Z",
     "start_time": "2020-09-28T20:23:03.163162Z"
    }
   },
   "outputs": [],
   "source": [
    "ratings = pd.read_csv('ml-1m/ratings.dat', delimiter='::', header=None, \n",
    "        names=['user_id', 'movie_id', 'rating', 'timestamp'], \n",
    "        usecols=['user_id', 'movie_id', 'rating'], engine='python')"
   ]
  },
  {
   "cell_type": "code",
   "execution_count": 3,
   "metadata": {
    "ExecuteTime": {
     "end_time": "2020-09-28T20:23:07.874854Z",
     "start_time": "2020-09-28T20:23:07.832537Z"
    }
   },
   "outputs": [
    {
     "data": {
      "text/plain": [
       "0         1193\n",
       "1          661\n",
       "2          914\n",
       "3         3408\n",
       "4         2355\n",
       "          ... \n",
       "919876    2198\n",
       "940262    2703\n",
       "957826    2845\n",
       "970914    3607\n",
       "983062    2909\n",
       "Name: movie_id, Length: 3706, dtype: int64"
      ]
     },
     "execution_count": 3,
     "metadata": {},
     "output_type": "execute_result"
    }
   ],
   "source": [
    "ratings['movie_id'].drop_duplicates()"
   ]
  },
  {
   "cell_type": "code",
   "execution_count": 4,
   "metadata": {
    "ExecuteTime": {
     "end_time": "2020-09-28T20:23:07.913821Z",
     "start_time": "2020-09-28T20:23:07.876907Z"
    }
   },
   "outputs": [],
   "source": [
    "movie_info = pd.read_csv('ml-1m/movies.dat', delimiter='::', header=None, \n",
    "        names=['movie_id', 'name', 'category'], engine='python')"
   ]
  },
  {
   "cell_type": "markdown",
   "metadata": {},
   "source": [
    "Explicit данные"
   ]
  },
  {
   "cell_type": "code",
   "execution_count": 5,
   "metadata": {
    "ExecuteTime": {
     "end_time": "2020-09-28T20:23:07.939831Z",
     "start_time": "2020-09-28T20:23:07.916824Z"
    }
   },
   "outputs": [
    {
     "data": {
      "text/html": [
       "<div>\n",
       "<style scoped>\n",
       "    .dataframe tbody tr th:only-of-type {\n",
       "        vertical-align: middle;\n",
       "    }\n",
       "\n",
       "    .dataframe tbody tr th {\n",
       "        vertical-align: top;\n",
       "    }\n",
       "\n",
       "    .dataframe thead th {\n",
       "        text-align: right;\n",
       "    }\n",
       "</style>\n",
       "<table border=\"1\" class=\"dataframe\">\n",
       "  <thead>\n",
       "    <tr style=\"text-align: right;\">\n",
       "      <th></th>\n",
       "      <th>user_id</th>\n",
       "      <th>movie_id</th>\n",
       "      <th>rating</th>\n",
       "    </tr>\n",
       "  </thead>\n",
       "  <tbody>\n",
       "    <tr>\n",
       "      <th>0</th>\n",
       "      <td>1</td>\n",
       "      <td>1193</td>\n",
       "      <td>5</td>\n",
       "    </tr>\n",
       "    <tr>\n",
       "      <th>1</th>\n",
       "      <td>1</td>\n",
       "      <td>661</td>\n",
       "      <td>3</td>\n",
       "    </tr>\n",
       "    <tr>\n",
       "      <th>2</th>\n",
       "      <td>1</td>\n",
       "      <td>914</td>\n",
       "      <td>3</td>\n",
       "    </tr>\n",
       "    <tr>\n",
       "      <th>3</th>\n",
       "      <td>1</td>\n",
       "      <td>3408</td>\n",
       "      <td>4</td>\n",
       "    </tr>\n",
       "    <tr>\n",
       "      <th>4</th>\n",
       "      <td>1</td>\n",
       "      <td>2355</td>\n",
       "      <td>5</td>\n",
       "    </tr>\n",
       "    <tr>\n",
       "      <th>5</th>\n",
       "      <td>1</td>\n",
       "      <td>1197</td>\n",
       "      <td>3</td>\n",
       "    </tr>\n",
       "    <tr>\n",
       "      <th>6</th>\n",
       "      <td>1</td>\n",
       "      <td>1287</td>\n",
       "      <td>5</td>\n",
       "    </tr>\n",
       "    <tr>\n",
       "      <th>7</th>\n",
       "      <td>1</td>\n",
       "      <td>2804</td>\n",
       "      <td>5</td>\n",
       "    </tr>\n",
       "    <tr>\n",
       "      <th>8</th>\n",
       "      <td>1</td>\n",
       "      <td>594</td>\n",
       "      <td>4</td>\n",
       "    </tr>\n",
       "    <tr>\n",
       "      <th>9</th>\n",
       "      <td>1</td>\n",
       "      <td>919</td>\n",
       "      <td>4</td>\n",
       "    </tr>\n",
       "  </tbody>\n",
       "</table>\n",
       "</div>"
      ],
      "text/plain": [
       "   user_id  movie_id  rating\n",
       "0        1      1193       5\n",
       "1        1       661       3\n",
       "2        1       914       3\n",
       "3        1      3408       4\n",
       "4        1      2355       5\n",
       "5        1      1197       3\n",
       "6        1      1287       5\n",
       "7        1      2804       5\n",
       "8        1       594       4\n",
       "9        1       919       4"
      ]
     },
     "execution_count": 5,
     "metadata": {},
     "output_type": "execute_result"
    }
   ],
   "source": [
    "ratings.head(10)"
   ]
  },
  {
   "cell_type": "markdown",
   "metadata": {},
   "source": [
    "Для того, чтобы преобразовать текущий датасет в Implicit, давайте считать что позитивная оценка это оценка >=4"
   ]
  },
  {
   "cell_type": "code",
   "execution_count": 6,
   "metadata": {
    "ExecuteTime": {
     "end_time": "2020-09-28T20:23:07.991847Z",
     "start_time": "2020-09-28T20:23:07.942821Z"
    }
   },
   "outputs": [],
   "source": [
    "implicit_ratings = ratings.loc[(ratings['rating'] >= 4)]"
   ]
  },
  {
   "cell_type": "code",
   "execution_count": 7,
   "metadata": {
    "ExecuteTime": {
     "end_time": "2020-09-28T20:23:08.008408Z",
     "start_time": "2020-09-28T20:23:07.995052Z"
    }
   },
   "outputs": [
    {
     "data": {
      "text/html": [
       "<div>\n",
       "<style scoped>\n",
       "    .dataframe tbody tr th:only-of-type {\n",
       "        vertical-align: middle;\n",
       "    }\n",
       "\n",
       "    .dataframe tbody tr th {\n",
       "        vertical-align: top;\n",
       "    }\n",
       "\n",
       "    .dataframe thead th {\n",
       "        text-align: right;\n",
       "    }\n",
       "</style>\n",
       "<table border=\"1\" class=\"dataframe\">\n",
       "  <thead>\n",
       "    <tr style=\"text-align: right;\">\n",
       "      <th></th>\n",
       "      <th>user_id</th>\n",
       "      <th>movie_id</th>\n",
       "      <th>rating</th>\n",
       "    </tr>\n",
       "  </thead>\n",
       "  <tbody>\n",
       "    <tr>\n",
       "      <th>0</th>\n",
       "      <td>1</td>\n",
       "      <td>1193</td>\n",
       "      <td>5</td>\n",
       "    </tr>\n",
       "    <tr>\n",
       "      <th>3</th>\n",
       "      <td>1</td>\n",
       "      <td>3408</td>\n",
       "      <td>4</td>\n",
       "    </tr>\n",
       "    <tr>\n",
       "      <th>4</th>\n",
       "      <td>1</td>\n",
       "      <td>2355</td>\n",
       "      <td>5</td>\n",
       "    </tr>\n",
       "    <tr>\n",
       "      <th>6</th>\n",
       "      <td>1</td>\n",
       "      <td>1287</td>\n",
       "      <td>5</td>\n",
       "    </tr>\n",
       "    <tr>\n",
       "      <th>7</th>\n",
       "      <td>1</td>\n",
       "      <td>2804</td>\n",
       "      <td>5</td>\n",
       "    </tr>\n",
       "    <tr>\n",
       "      <th>8</th>\n",
       "      <td>1</td>\n",
       "      <td>594</td>\n",
       "      <td>4</td>\n",
       "    </tr>\n",
       "    <tr>\n",
       "      <th>9</th>\n",
       "      <td>1</td>\n",
       "      <td>919</td>\n",
       "      <td>4</td>\n",
       "    </tr>\n",
       "    <tr>\n",
       "      <th>10</th>\n",
       "      <td>1</td>\n",
       "      <td>595</td>\n",
       "      <td>5</td>\n",
       "    </tr>\n",
       "    <tr>\n",
       "      <th>11</th>\n",
       "      <td>1</td>\n",
       "      <td>938</td>\n",
       "      <td>4</td>\n",
       "    </tr>\n",
       "    <tr>\n",
       "      <th>12</th>\n",
       "      <td>1</td>\n",
       "      <td>2398</td>\n",
       "      <td>4</td>\n",
       "    </tr>\n",
       "  </tbody>\n",
       "</table>\n",
       "</div>"
      ],
      "text/plain": [
       "    user_id  movie_id  rating\n",
       "0         1      1193       5\n",
       "3         1      3408       4\n",
       "4         1      2355       5\n",
       "6         1      1287       5\n",
       "7         1      2804       5\n",
       "8         1       594       4\n",
       "9         1       919       4\n",
       "10        1       595       5\n",
       "11        1       938       4\n",
       "12        1      2398       4"
      ]
     },
     "execution_count": 7,
     "metadata": {},
     "output_type": "execute_result"
    }
   ],
   "source": [
    "implicit_ratings.head(10)"
   ]
  },
  {
   "cell_type": "markdown",
   "metadata": {},
   "source": [
    "Удобнее работать с sparse матричками, давайте преобразуем DataFrame в CSR матрицы"
   ]
  },
  {
   "cell_type": "code",
   "execution_count": 8,
   "metadata": {
    "ExecuteTime": {
     "end_time": "2020-09-28T20:23:08.088819Z",
     "start_time": "2020-09-28T20:23:08.011828Z"
    }
   },
   "outputs": [],
   "source": [
    "users = implicit_ratings[\"user_id\"]\n",
    "movies = implicit_ratings[\"movie_id\"]\n",
    "user_item = sp.coo_matrix((np.ones_like(users), (users, movies)))\n",
    "user_item_t_csr = user_item.T.tocsr()\n",
    "user_item_csr = user_item.tocsr()"
   ]
  },
  {
   "cell_type": "markdown",
   "metadata": {},
   "source": [
    "В качестве примера воспользуемся ALS разложением из библиотеки implicit\n",
    "\n",
    "Зададим размерность латентного пространства равным 64, это же определяет размер user/item эмбедингов"
   ]
  },
  {
   "cell_type": "code",
   "execution_count": 9,
   "metadata": {
    "ExecuteTime": {
     "end_time": "2020-09-28T20:23:08.095207Z",
     "start_time": "2020-09-28T20:23:08.090821Z"
    }
   },
   "outputs": [],
   "source": [
    "toy_movie_id = 1\n",
    "test_user_id = 4"
   ]
  },
  {
   "cell_type": "code",
   "execution_count": 25,
   "metadata": {
    "ExecuteTime": {
     "end_time": "2020-09-27T21:19:35.294979Z",
     "start_time": "2020-09-27T21:19:35.288978Z"
    }
   },
   "outputs": [
    {
     "name": "stderr",
     "output_type": "stream",
     "text": [
      "WARNING:root:OpenBLAS detected. Its highly recommend to set the environment variable 'export OPENBLAS_NUM_THREADS=1' to disable its internal multithreading\n"
     ]
    }
   ],
   "source": [
    "model = implicit.als.AlternatingLeastSquares(factors=64, iterations=100, calculate_training_loss=True)"
   ]
  },
  {
   "cell_type": "markdown",
   "metadata": {},
   "source": [
    "В качестве loss здесь всеми любимый RMSE"
   ]
  },
  {
   "cell_type": "code",
   "execution_count": 26,
   "metadata": {
    "ExecuteTime": {
     "end_time": "2020-09-27T21:20:52.908614Z",
     "start_time": "2020-09-27T21:19:35.296980Z"
    }
   },
   "outputs": [
    {
     "data": {
      "application/vnd.jupyter.widget-view+json": {
       "model_id": "e35b96cea16c42f490b96c87cbfd3d9b",
       "version_major": 2,
       "version_minor": 0
      },
      "text/plain": [
       "HBox(children=(FloatProgress(value=0.0), HTML(value='')))"
      ]
     },
     "metadata": {},
     "output_type": "display_data"
    },
    {
     "name": "stdout",
     "output_type": "stream",
     "text": [
      "\n"
     ]
    }
   ],
   "source": [
    "model.fit(user_item_t_csr)"
   ]
  },
  {
   "cell_type": "markdown",
   "metadata": {},
   "source": [
    "Построим похожие фильмы по 1 movie_id = Истории игрушек"
   ]
  },
  {
   "cell_type": "code",
   "execution_count": 27,
   "metadata": {
    "ExecuteTime": {
     "end_time": "2020-09-27T21:20:52.930612Z",
     "start_time": "2020-09-27T21:20:52.911613Z"
    }
   },
   "outputs": [
    {
     "data": {
      "text/html": [
       "<div>\n",
       "<style scoped>\n",
       "    .dataframe tbody tr th:only-of-type {\n",
       "        vertical-align: middle;\n",
       "    }\n",
       "\n",
       "    .dataframe tbody tr th {\n",
       "        vertical-align: top;\n",
       "    }\n",
       "\n",
       "    .dataframe thead th {\n",
       "        text-align: right;\n",
       "    }\n",
       "</style>\n",
       "<table border=\"1\" class=\"dataframe\">\n",
       "  <thead>\n",
       "    <tr style=\"text-align: right;\">\n",
       "      <th></th>\n",
       "      <th>movie_id</th>\n",
       "      <th>name</th>\n",
       "      <th>category</th>\n",
       "    </tr>\n",
       "  </thead>\n",
       "  <tbody>\n",
       "    <tr>\n",
       "      <th>0</th>\n",
       "      <td>1</td>\n",
       "      <td>Toy Story (1995)</td>\n",
       "      <td>Animation|Children's|Comedy</td>\n",
       "    </tr>\n",
       "    <tr>\n",
       "      <th>1</th>\n",
       "      <td>2</td>\n",
       "      <td>Jumanji (1995)</td>\n",
       "      <td>Adventure|Children's|Fantasy</td>\n",
       "    </tr>\n",
       "    <tr>\n",
       "      <th>2</th>\n",
       "      <td>3</td>\n",
       "      <td>Grumpier Old Men (1995)</td>\n",
       "      <td>Comedy|Romance</td>\n",
       "    </tr>\n",
       "    <tr>\n",
       "      <th>3</th>\n",
       "      <td>4</td>\n",
       "      <td>Waiting to Exhale (1995)</td>\n",
       "      <td>Comedy|Drama</td>\n",
       "    </tr>\n",
       "    <tr>\n",
       "      <th>4</th>\n",
       "      <td>5</td>\n",
       "      <td>Father of the Bride Part II (1995)</td>\n",
       "      <td>Comedy</td>\n",
       "    </tr>\n",
       "  </tbody>\n",
       "</table>\n",
       "</div>"
      ],
      "text/plain": [
       "   movie_id                                name                      category\n",
       "0         1                    Toy Story (1995)   Animation|Children's|Comedy\n",
       "1         2                      Jumanji (1995)  Adventure|Children's|Fantasy\n",
       "2         3             Grumpier Old Men (1995)                Comedy|Romance\n",
       "3         4            Waiting to Exhale (1995)                  Comedy|Drama\n",
       "4         5  Father of the Bride Part II (1995)                        Comedy"
      ]
     },
     "execution_count": 27,
     "metadata": {},
     "output_type": "execute_result"
    }
   ],
   "source": [
    "movie_info.head(5)"
   ]
  },
  {
   "cell_type": "code",
   "execution_count": 28,
   "metadata": {
    "ExecuteTime": {
     "end_time": "2020-09-27T21:20:52.940614Z",
     "start_time": "2020-09-27T21:20:52.933615Z"
    }
   },
   "outputs": [],
   "source": [
    "get_similars = lambda item_id, model : [movie_info[movie_info[\"movie_id\"] == x[0]][\"name\"].to_string() \n",
    "                                        for x in model.similar_items(item_id)]"
   ]
  },
  {
   "cell_type": "markdown",
   "metadata": {},
   "source": [
    "Как мы видим, симилары действительно оказались симиларами.\n",
    "\n",
    "Качество симиларов часто является хорошим способом проверить качество алгоритмов.\n",
    "\n",
    "P.S. Если хочется поглубже разобраться в том как разные алгоритмы формируют разные латентные пространства, рекомендую загружать полученные вектора в tensorBoard и смотреть на сформированное пространство"
   ]
  },
  {
   "cell_type": "code",
   "execution_count": 29,
   "metadata": {
    "ExecuteTime": {
     "end_time": "2020-09-27T21:20:52.981620Z",
     "start_time": "2020-09-27T21:20:52.948614Z"
    }
   },
   "outputs": [
    {
     "data": {
      "text/plain": [
       "['0    Toy Story (1995)',\n",
       " '3045    Toy Story 2 (1999)',\n",
       " \"2286    Bug's Life, A (1998)\",\n",
       " '33    Babe (1995)',\n",
       " '2315    Babe: Pig in the City (1998)',\n",
       " '584    Aladdin (1992)',\n",
       " '1526    Hercules (1997)',\n",
       " '2252    Pleasantville (1998)',\n",
       " '1838    Mulan (1998)',\n",
       " '2692    Iron Giant, The (1999)']"
      ]
     },
     "execution_count": 29,
     "metadata": {},
     "output_type": "execute_result"
    }
   ],
   "source": [
    "get_similars(1, model)"
   ]
  },
  {
   "cell_type": "markdown",
   "metadata": {},
   "source": [
    "Давайте теперь построим рекомендации для юзеров\n",
    "\n",
    "Как мы видим юзеру нравится фантастика, значит и в рекомендациях ожидаем увидеть фантастику"
   ]
  },
  {
   "cell_type": "code",
   "execution_count": 30,
   "metadata": {
    "ExecuteTime": {
     "end_time": "2020-09-27T21:20:52.993612Z",
     "start_time": "2020-09-27T21:20:52.987618Z"
    }
   },
   "outputs": [],
   "source": [
    "get_user_history = lambda user_id, implicit_ratings : [movie_info[movie_info[\"movie_id\"] == x][\"name\"].to_string() \n",
    "                                            for x in implicit_ratings[implicit_ratings[\"user_id\"] == user_id][\"movie_id\"]]"
   ]
  },
  {
   "cell_type": "code",
   "execution_count": 31,
   "metadata": {
    "ExecuteTime": {
     "end_time": "2020-09-27T21:20:53.032617Z",
     "start_time": "2020-09-27T21:20:52.996613Z"
    }
   },
   "outputs": [
    {
     "data": {
      "text/plain": [
       "['3399    Hustler, The (1961)',\n",
       " '2882    Fistful of Dollars, A (1964)',\n",
       " '1196    Alien (1979)',\n",
       " '1023    Die Hard (1988)',\n",
       " '257    Star Wars: Episode IV - A New Hope (1977)',\n",
       " '1959    Saving Private Ryan (1998)',\n",
       " '476    Jurassic Park (1993)',\n",
       " '1180    Raiders of the Lost Ark (1981)',\n",
       " '1885    Rocky (1976)',\n",
       " '1081    E.T. the Extra-Terrestrial (1982)',\n",
       " '3349    Thelma & Louise (1991)',\n",
       " '3633    Mad Max (1979)',\n",
       " '2297    King Kong (1933)',\n",
       " '1366    Jaws (1975)',\n",
       " '1183    Good, The Bad and The Ugly, The (1966)',\n",
       " '2623    Run Lola Run (Lola rennt) (1998)',\n",
       " '2878    Goldfinger (1964)',\n",
       " '1220    Terminator, The (1984)']"
      ]
     },
     "execution_count": 31,
     "metadata": {},
     "output_type": "execute_result"
    }
   ],
   "source": [
    "get_user_history(4, implicit_ratings)"
   ]
  },
  {
   "cell_type": "markdown",
   "metadata": {},
   "source": [
    "Получилось! \n",
    "\n",
    "Мы действительно порекомендовали пользователю фантастику и боевики, более того встречаются продолжения тех фильмов, которые он высоко оценил"
   ]
  },
  {
   "cell_type": "code",
   "execution_count": 32,
   "metadata": {
    "ExecuteTime": {
     "end_time": "2020-09-27T21:20:53.044624Z",
     "start_time": "2020-09-27T21:20:53.038638Z"
    }
   },
   "outputs": [],
   "source": [
    "get_recommendations = lambda user_id, model : [movie_info[movie_info[\"movie_id\"] == x[0]][\"name\"].to_string() \n",
    "                                               for x in model.recommend(user_id, user_item_csr)]"
   ]
  },
  {
   "cell_type": "code",
   "execution_count": 33,
   "metadata": {
    "ExecuteTime": {
     "end_time": "2020-09-27T21:20:53.070612Z",
     "start_time": "2020-09-27T21:20:53.047613Z"
    }
   },
   "outputs": [
    {
     "data": {
      "text/plain": [
       "['585    Terminator 2: Judgment Day (1991)',\n",
       " '1271    Indiana Jones and the Last Crusade (1989)',\n",
       " '1178    Star Wars: Episode V - The Empire Strikes Back...',\n",
       " '1284    Butch Cassidy and the Sundance Kid (1969)',\n",
       " '1182    Aliens (1986)',\n",
       " '2502    Matrix, The (1999)',\n",
       " '1884    French Connection, The (1971)',\n",
       " '3402    Close Encounters of the Third Kind (1977)',\n",
       " '3458    Predator (1987)',\n",
       " '1892    Rain Man (1988)']"
      ]
     },
     "execution_count": 33,
     "metadata": {},
     "output_type": "execute_result"
    }
   ],
   "source": [
    "get_recommendations(4, model)"
   ]
  },
  {
   "cell_type": "markdown",
   "metadata": {},
   "source": [
    "Теперь ваша очередь реализовать самые популярные алгоритмы матричных разложений\n",
    "\n",
    "Что будет оцениваться:\n",
    "1. Корректность алгоритма\n",
    "2. Качество получившихся симиларов\n",
    "3. Качество итоговых рекомендаций для юзера"
   ]
  },
  {
   "cell_type": "markdown",
   "metadata": {},
   "source": [
    "### Задание 1. Не использую готовые решения, реализовать SVD разложение используя SGD на explicit данных"
   ]
  },
  {
   "cell_type": "code",
   "execution_count": 119,
   "metadata": {
    "ExecuteTime": {
     "end_time": "2020-09-28T17:15:31.945917Z",
     "start_time": "2020-09-28T17:15:31.934914Z"
    }
   },
   "outputs": [],
   "source": [
    "class SVD_Recommender:\n",
    "\n",
    "    def fit(self, ratings, features_dim=64, learning_rate=0.01, lambda_reg=0.01):\n",
    "        height = max(ratings['user_id']) + 1\n",
    "        W = np.random.random((height, features_dim)) / np.sqrt(features_dim)\n",
    "        bias_w = np.zeros(height)\n",
    "\n",
    "        width = max(ratings['movie_id']) + 1\n",
    "        H = np.random.random((width, features_dim)) / np.sqrt(features_dim)\n",
    "        bias_h = np.zeros(width)\n",
    "\n",
    "        eps = 1e-2\n",
    "        ratings = ratings.to_numpy()\n",
    "        for _ in range(10):\n",
    "            total_error = 0\n",
    "            np.random.shuffle(ratings)\n",
    "            for row in ratings:\n",
    "                user_id = row[0]\n",
    "                item_id = row[1]\n",
    "\n",
    "                error = np.dot(W[user_id], H[item_id]) + bias_w[user_id] + bias_h[item_id] - row[2]\n",
    "                total_error += error ** 2\n",
    "\n",
    "                W[user_id] = W[user_id] - learning_rate * (error * H[item_id] + lambda_reg * W[user_id])\n",
    "                bias_w[user_id] = bias_w[user_id] - learning_rate * (error + lambda_reg * bias_w[user_id])\n",
    "\n",
    "                H[item_id] = H[item_id] - learning_rate * (error * W[user_id] + lambda_reg * H[item_id])\n",
    "                bias_h[item_id] = bias_h[item_id] - learning_rate * (error + lambda_reg * bias_h[item_id])\n",
    "\n",
    "            mse = total_error / len(ratings)\n",
    "            print('mse', mse)\n",
    "\n",
    "            if mse < eps:\n",
    "                break\n",
    "                \n",
    "        self.W = W\n",
    "        self.bias_w = bias_w\n",
    "        self.H = H\n",
    "        self.bias_h = bias_h"
   ]
  },
  {
   "cell_type": "code",
   "execution_count": 120,
   "metadata": {
    "ExecuteTime": {
     "end_time": "2020-09-28T17:18:47.593289Z",
     "start_time": "2020-09-28T17:15:33.342888Z"
    }
   },
   "outputs": [
    {
     "name": "stdout",
     "output_type": "stream",
     "text": [
      "mse 1.4790943724404508\n",
      "mse 0.8627681368845151\n",
      "mse 0.8327983734999971\n",
      "mse 0.8065620175469181\n",
      "mse 0.7693825776816552\n",
      "mse 0.7269893828026432\n",
      "mse 0.6831431616879166\n",
      "mse 0.6401102806602547\n",
      "mse 0.5992764155656694\n",
      "mse 0.5620845429846378\n"
     ]
    }
   ],
   "source": [
    "svd = SVD_Recommender()\n",
    "svd.fit(ratings)"
   ]
  },
  {
   "cell_type": "code",
   "execution_count": 10,
   "metadata": {
    "ExecuteTime": {
     "end_time": "2020-09-28T20:23:33.688128Z",
     "start_time": "2020-09-28T20:23:33.674102Z"
    }
   },
   "outputs": [],
   "source": [
    "def similars(recommender, movie_id):\n",
    "    input_vector = recommender.H[movie_id]\n",
    "\n",
    "    data = []\n",
    "    for item_idx, column in enumerate(recommender.H):\n",
    "        dst = np.linalg.norm(column - input_vector)\n",
    "        data.append((item_idx, dst))\n",
    "\n",
    "    sorted_by_dst = list(sorted(data, key=lambda val: val[1]))\n",
    "\n",
    "    similars = []\n",
    "    for item in sorted_by_dst:\n",
    "        search = movie_info[movie_info[\"movie_id\"] == item[0]]\n",
    "        movie_name = search[\"name\"].to_string()\n",
    "        if len(search) > 0:\n",
    "            similars.append((item[0], movie_name))\n",
    "\n",
    "    return similars\n",
    "\n",
    "def recommend(recommender, user_id, user_item_csr):\n",
    "    movie_ids = user_item_csr[user_id].indices\n",
    "\n",
    "    data = []\n",
    "    for movie_id in movie_ids:\n",
    "        if movie_id >= len(recommender.H):\n",
    "            continue\n",
    "            \n",
    "        bias_w = 0\n",
    "        if hasattr(recommender, 'bias_w'):\n",
    "            bias_w = recommender.bias_w[user_id]\n",
    "            \n",
    "        bias_h = 0\n",
    "        if hasattr(recommender, 'bias_h'):\n",
    "            bias_h = recommender.bias_h[movie_id]\n",
    "\n",
    "        dot = np.dot(recommender.W[user_id], recommender.H[movie_id])\n",
    "        data.append((movie_id, dot + bias_w + bias_h))\n",
    "\n",
    "    data = list(sorted(data, key=lambda val: val[1], reverse=True))\n",
    "    recommendations = []\n",
    "    for x in data:\n",
    "         recommendations.append(movie_info[movie_info[\"movie_id\"] == x[0]][\"name\"].to_string())\n",
    "    return recommendations"
   ]
  },
  {
   "cell_type": "code",
   "execution_count": 124,
   "metadata": {
    "ExecuteTime": {
     "end_time": "2020-09-28T17:26:34.889171Z",
     "start_time": "2020-09-28T17:26:31.837814Z"
    }
   },
   "outputs": [
    {
     "data": {
      "text/plain": [
       "[(1, '0    Toy Story (1995)'),\n",
       " (3114, '3045    Toy Story 2 (1999)'),\n",
       " (2355, \"2286    Bug's Life, A (1998)\"),\n",
       " (2294, '2225    Antz (1998)'),\n",
       " (1713, '1664    Mouse Hunt (1997)'),\n",
       " (239, '236    Goofy Movie, A (1995)'),\n",
       " (1907, '1838    Mulan (1998)'),\n",
       " (2687, '2618    Tarzan (1999)'),\n",
       " (3615, '3546    Dinosaur (2000)'),\n",
       " (709, '700    Oliver & Company (1988)')]"
      ]
     },
     "execution_count": 124,
     "metadata": {},
     "output_type": "execute_result"
    }
   ],
   "source": [
    "similars(svd, toy_movie_id)[:10]"
   ]
  },
  {
   "cell_type": "code",
   "execution_count": 123,
   "metadata": {
    "ExecuteTime": {
     "end_time": "2020-09-28T17:18:51.314968Z",
     "start_time": "2020-09-28T17:18:51.287966Z"
    }
   },
   "outputs": [
    {
     "data": {
      "text/plain": [
       "['3399    Hustler, The (1961)',\n",
       " '2882    Fistful of Dollars, A (1964)',\n",
       " '1366    Jaws (1975)',\n",
       " '1959    Saving Private Ryan (1998)',\n",
       " '1183    Good, The Bad and The Ugly, The (1966)',\n",
       " '1885    Rocky (1976)',\n",
       " '1180    Raiders of the Lost Ark (1981)',\n",
       " '2878    Goldfinger (1964)',\n",
       " '1081    E.T. the Extra-Terrestrial (1982)',\n",
       " '1220    Terminator, The (1984)']"
      ]
     },
     "execution_count": 123,
     "metadata": {},
     "output_type": "execute_result"
    }
   ],
   "source": [
    "recommend(svd, test_user_id, user_item_csr)[:10]"
   ]
  },
  {
   "cell_type": "markdown",
   "metadata": {},
   "source": [
    "### Задание 2. Не использую готовые решения, реализовать матричное разложение используя ALS на implicit данных"
   ]
  },
  {
   "cell_type": "code",
   "execution_count": 11,
   "metadata": {
    "ExecuteTime": {
     "end_time": "2020-09-28T10:42:45.281596Z",
     "start_time": "2020-09-28T10:42:45.267961Z"
    }
   },
   "outputs": [],
   "source": [
    "from tqdm.notebook import tqdm\n",
    "\n",
    "class ALS_Recommender:\n",
    "\n",
    "    def fit(self, input_matrix, features_dim=64, lambda_reg=0.001, alpha_conf=40, max_iterations=2):\n",
    "        height = max(ratings['user_id']) + 1\n",
    "        W = np.random.random((height, features_dim)) / np.sqrt(features_dim)\n",
    "\n",
    "        width = max(ratings['movie_id']) + 1\n",
    "        H = np.random.random((width, features_dim)) / np.sqrt(features_dim)\n",
    "\n",
    "        while iteration < max_iterations:\n",
    "            HTH = np.dot(H.T, H)\n",
    "            for user_id in tqdm(range(height)):\n",
    "                p_u = input_matrix[user_id, :].toarray().squeeze()\n",
    "                c = 1 + alpha_conf * p_u\n",
    "                Cu = np.diag(p_u)\n",
    "                \n",
    "                triple_dot = H.T.dot(Cu - np.eye(width)).dot(H)\n",
    "                inversed = np.linalg.inv(HTH + triple_dot + eye_reg)\n",
    "                right_mult =  H.T.dot(Cu).dot(p_u)\n",
    "                W[user_id] = np.dot(inversed, right_mult)\n",
    "\n",
    "            WTW = np.dot(W.T, W)\n",
    "            for item_id in tqdm(range(width)):\n",
    "                p_i = input_matrix[:, item_id].toarray().squeeze()\n",
    "                c = 1 + alpha_conf * p_i\n",
    "                Cu = np.diag(p_i)\n",
    "\n",
    "                triple_dot = W.T.dot(Cu - np.eye(height)).dot(W) \n",
    "                inversed = np.linalg.inv(WTW + triple_dot + eye_reg)\n",
    "                right_mult =  W.T.dot(Cu).dot(p_i)\n",
    "                H[item_id] = np.dot(inversed, right_mult)\n",
    "\n",
    "\n",
    "            iteration += 1\n",
    "\n",
    "        self.W = W\n",
    "        self.H = H"
   ]
  },
  {
   "cell_type": "code",
   "execution_count": null,
   "metadata": {
    "ExecuteTime": {
     "start_time": "2020-09-28T10:42:45.680Z"
    }
   },
   "outputs": [],
   "source": [
    "als = ALS_Recommender()\n",
    "als.fit(user_item_csr)"
   ]
  },
  {
   "cell_type": "code",
   "execution_count": 178,
   "metadata": {
    "ExecuteTime": {
     "end_time": "2020-09-28T07:34:48.973211Z",
     "start_time": "2020-09-28T07:34:45.935217Z"
    }
   },
   "outputs": [
    {
     "data": {
      "text/plain": [
       "[(1, '0    Toy Story (1995)'),\n",
       " (3114, '3045    Toy Story 2 (1999)'),\n",
       " (588, '584    Aladdin (1992)'),\n",
       " (364, '360    Lion King, The (1994)'),\n",
       " (1907, '1838    Mulan (1998)'),\n",
       " (2761, '2692    Iron Giant, The (1999)'),\n",
       " (1265, '1245    Groundhog Day (1993)'),\n",
       " (2687, '2618    Tarzan (1999)'),\n",
       " (1566, '1526    Hercules (1997)'),\n",
       " (2294, '2225    Antz (1998)')]"
      ]
     },
     "execution_count": 178,
     "metadata": {},
     "output_type": "execute_result"
    }
   ],
   "source": [
    "similars(als, toy_movie_id)[:10]"
   ]
  },
  {
   "cell_type": "code",
   "execution_count": 186,
   "metadata": {
    "ExecuteTime": {
     "end_time": "2020-09-28T07:39:33.935910Z",
     "start_time": "2020-09-28T07:39:33.897390Z"
    }
   },
   "outputs": [
    {
     "data": {
      "text/plain": [
       "['257    Star Wars: Episode IV - A New Hope (1977)',\n",
       " '1180    Raiders of the Lost Ark (1981)',\n",
       " '1366    Jaws (1975)',\n",
       " '1196    Alien (1979)',\n",
       " '1220    Terminator, The (1984)',\n",
       " '1023    Die Hard (1988)',\n",
       " '1081    E.T. the Extra-Terrestrial (1982)',\n",
       " '1183    Good, The Bad and The Ugly, The (1966)',\n",
       " '1959    Saving Private Ryan (1998)',\n",
       " '1885    Rocky (1976)']"
      ]
     },
     "execution_count": 186,
     "metadata": {},
     "output_type": "execute_result"
    }
   ],
   "source": [
    "recommend(als, test_user_id, user_item_csr)[:10]"
   ]
  },
  {
   "cell_type": "markdown",
   "metadata": {},
   "source": [
    "### Задание 3. Не использую готовые решения, реализовать матричное разложение BPR на implicit данных"
   ]
  },
  {
   "cell_type": "code",
   "execution_count": 171,
   "metadata": {
    "ExecuteTime": {
     "end_time": "2020-09-28T18:34:45.596626Z",
     "start_time": "2020-09-28T18:34:45.586643Z"
    }
   },
   "outputs": [],
   "source": [
    "from tqdm.notebook import tqdm\n",
    "import random\n",
    "\n",
    "class BPR_recommender():\n",
    "    \n",
    "    def fit(self, input_matrix, features_dim=64, lambda_reg=0.000001, learning_rate=0.05, max_iterations=5):\n",
    "        height = max(ratings['user_id']) + 1\n",
    "        W = np.random.random((height, features_dim)) / np.sqrt(features_dim)\n",
    "\n",
    "        width = max(ratings['movie_id']) + 1\n",
    "        H = np.random.random((width, features_dim)) / np.sqrt(features_dim)\n",
    "        \n",
    "        Ds = []\n",
    "        for user_id in ratings['user_id'].unique():\n",
    "            for movie_id in user_item_csr[user_id, :].indices:\n",
    "                Ds.append((user_id, movie_id))\n",
    "\n",
    "        for epoch in tqdm(range(max_iterations)):       \n",
    "            np.random.shuffle(Ds)\n",
    "\n",
    "            for user_id, i in tqdm(Ds):\n",
    "                j = np.random.randint(1, width)\n",
    "                while input_matrix[user_id, j] != 0:\n",
    "                    j = np.random.randint(1, width)\n",
    "\n",
    "                x_hat_uij = np.dot(W[user_id], H[i]) - np.dot(W[user_id], H[j])\n",
    "\n",
    "                coef = np.exp(-x_hat_uij) / (1 + np.exp(-x_hat_uij))\n",
    "                W[user_id] = W[user_id] + learning_rate * (coef * (H[i] - H[j]) + lambda_reg * W[user_id])\n",
    "                H[i] = H[i] + learning_rate * (coef * (W[user_id]) + lambda_reg * H[i])\n",
    "                H[j] = H[j] + learning_rate * (coef * (-W[user_id]) + lambda_reg * H[j])\n",
    "\n",
    "        self.W = W\n",
    "        self.H = H"
   ]
  },
  {
   "cell_type": "code",
   "execution_count": 172,
   "metadata": {
    "ExecuteTime": {
     "end_time": "2020-09-28T18:49:38.514584Z",
     "start_time": "2020-09-28T18:34:46.355044Z"
    }
   },
   "outputs": [
    {
     "data": {
      "application/vnd.jupyter.widget-view+json": {
       "model_id": "63887788f6db4a2da15174c2b7aa4e24",
       "version_major": 2,
       "version_minor": 0
      },
      "text/plain": [
       "HBox(children=(FloatProgress(value=0.0, max=20.0), HTML(value='')))"
      ]
     },
     "metadata": {},
     "output_type": "display_data"
    },
    {
     "data": {
      "application/vnd.jupyter.widget-view+json": {
       "model_id": "a3cded4c89004e68851d2b181b332398",
       "version_major": 2,
       "version_minor": 0
      },
      "text/plain": [
       "HBox(children=(FloatProgress(value=0.0, max=575281.0), HTML(value='')))"
      ]
     },
     "metadata": {},
     "output_type": "display_data"
    },
    {
     "name": "stdout",
     "output_type": "stream",
     "text": [
      "\n"
     ]
    },
    {
     "data": {
      "application/vnd.jupyter.widget-view+json": {
       "model_id": "643c24f6f1c14bef9d492229c55e64f2",
       "version_major": 2,
       "version_minor": 0
      },
      "text/plain": [
       "HBox(children=(FloatProgress(value=0.0, max=575281.0), HTML(value='')))"
      ]
     },
     "metadata": {},
     "output_type": "display_data"
    },
    {
     "name": "stdout",
     "output_type": "stream",
     "text": [
      "\n"
     ]
    },
    {
     "data": {
      "application/vnd.jupyter.widget-view+json": {
       "model_id": "743ef4db1ac14e6b832524eb28721f6c",
       "version_major": 2,
       "version_minor": 0
      },
      "text/plain": [
       "HBox(children=(FloatProgress(value=0.0, max=575281.0), HTML(value='')))"
      ]
     },
     "metadata": {},
     "output_type": "display_data"
    },
    {
     "name": "stdout",
     "output_type": "stream",
     "text": [
      "\n"
     ]
    },
    {
     "data": {
      "application/vnd.jupyter.widget-view+json": {
       "model_id": "bf6070f5c54d4748bcc898f9ecb9c982",
       "version_major": 2,
       "version_minor": 0
      },
      "text/plain": [
       "HBox(children=(FloatProgress(value=0.0, max=575281.0), HTML(value='')))"
      ]
     },
     "metadata": {},
     "output_type": "display_data"
    },
    {
     "name": "stdout",
     "output_type": "stream",
     "text": [
      "\n"
     ]
    },
    {
     "data": {
      "application/vnd.jupyter.widget-view+json": {
       "model_id": "2eebf49210e14988a2bdba5632b74b7c",
       "version_major": 2,
       "version_minor": 0
      },
      "text/plain": [
       "HBox(children=(FloatProgress(value=0.0, max=575281.0), HTML(value='')))"
      ]
     },
     "metadata": {},
     "output_type": "display_data"
    },
    {
     "name": "stdout",
     "output_type": "stream",
     "text": [
      "\n"
     ]
    },
    {
     "data": {
      "application/vnd.jupyter.widget-view+json": {
       "model_id": "523e58eafa0d429d9b86d7aa85ea10ab",
       "version_major": 2,
       "version_minor": 0
      },
      "text/plain": [
       "HBox(children=(FloatProgress(value=0.0, max=575281.0), HTML(value='')))"
      ]
     },
     "metadata": {},
     "output_type": "display_data"
    },
    {
     "name": "stdout",
     "output_type": "stream",
     "text": [
      "\n"
     ]
    },
    {
     "data": {
      "application/vnd.jupyter.widget-view+json": {
       "model_id": "def9f0dbaa5f49a1bf782dd896346b29",
       "version_major": 2,
       "version_minor": 0
      },
      "text/plain": [
       "HBox(children=(FloatProgress(value=0.0, max=575281.0), HTML(value='')))"
      ]
     },
     "metadata": {},
     "output_type": "display_data"
    },
    {
     "name": "stdout",
     "output_type": "stream",
     "text": [
      "\n"
     ]
    },
    {
     "data": {
      "application/vnd.jupyter.widget-view+json": {
       "model_id": "955815eea2ec4d208079e2f3732a77ba",
       "version_major": 2,
       "version_minor": 0
      },
      "text/plain": [
       "HBox(children=(FloatProgress(value=0.0, max=575281.0), HTML(value='')))"
      ]
     },
     "metadata": {},
     "output_type": "display_data"
    },
    {
     "name": "stdout",
     "output_type": "stream",
     "text": [
      "\n"
     ]
    },
    {
     "data": {
      "application/vnd.jupyter.widget-view+json": {
       "model_id": "eed692c842a34068ae2322d33ff8d084",
       "version_major": 2,
       "version_minor": 0
      },
      "text/plain": [
       "HBox(children=(FloatProgress(value=0.0, max=575281.0), HTML(value='')))"
      ]
     },
     "metadata": {},
     "output_type": "display_data"
    },
    {
     "name": "stdout",
     "output_type": "stream",
     "text": [
      "\n"
     ]
    },
    {
     "data": {
      "application/vnd.jupyter.widget-view+json": {
       "model_id": "6acd6c73eadb4ceb86304173dd887918",
       "version_major": 2,
       "version_minor": 0
      },
      "text/plain": [
       "HBox(children=(FloatProgress(value=0.0, max=575281.0), HTML(value='')))"
      ]
     },
     "metadata": {},
     "output_type": "display_data"
    },
    {
     "name": "stdout",
     "output_type": "stream",
     "text": [
      "\n"
     ]
    },
    {
     "data": {
      "application/vnd.jupyter.widget-view+json": {
       "model_id": "7dff8c20d1494deaa04e342bcaa4b567",
       "version_major": 2,
       "version_minor": 0
      },
      "text/plain": [
       "HBox(children=(FloatProgress(value=0.0, max=575281.0), HTML(value='')))"
      ]
     },
     "metadata": {},
     "output_type": "display_data"
    },
    {
     "name": "stdout",
     "output_type": "stream",
     "text": [
      "\n"
     ]
    },
    {
     "data": {
      "application/vnd.jupyter.widget-view+json": {
       "model_id": "5ef977409651466aaf0484b7d24d5069",
       "version_major": 2,
       "version_minor": 0
      },
      "text/plain": [
       "HBox(children=(FloatProgress(value=0.0, max=575281.0), HTML(value='')))"
      ]
     },
     "metadata": {},
     "output_type": "display_data"
    },
    {
     "name": "stdout",
     "output_type": "stream",
     "text": [
      "\n"
     ]
    },
    {
     "data": {
      "application/vnd.jupyter.widget-view+json": {
       "model_id": "6cf94fcbec5f419e90ae83367ab35adc",
       "version_major": 2,
       "version_minor": 0
      },
      "text/plain": [
       "HBox(children=(FloatProgress(value=0.0, max=575281.0), HTML(value='')))"
      ]
     },
     "metadata": {},
     "output_type": "display_data"
    },
    {
     "name": "stdout",
     "output_type": "stream",
     "text": [
      "\n"
     ]
    },
    {
     "data": {
      "application/vnd.jupyter.widget-view+json": {
       "model_id": "ee14bf2019c5448b8c9a21cdc078bfe3",
       "version_major": 2,
       "version_minor": 0
      },
      "text/plain": [
       "HBox(children=(FloatProgress(value=0.0, max=575281.0), HTML(value='')))"
      ]
     },
     "metadata": {},
     "output_type": "display_data"
    },
    {
     "name": "stdout",
     "output_type": "stream",
     "text": [
      "\n"
     ]
    },
    {
     "data": {
      "application/vnd.jupyter.widget-view+json": {
       "model_id": "9ec71a910afd4100911066513560f72c",
       "version_major": 2,
       "version_minor": 0
      },
      "text/plain": [
       "HBox(children=(FloatProgress(value=0.0, max=575281.0), HTML(value='')))"
      ]
     },
     "metadata": {},
     "output_type": "display_data"
    },
    {
     "name": "stdout",
     "output_type": "stream",
     "text": [
      "\n"
     ]
    },
    {
     "data": {
      "application/vnd.jupyter.widget-view+json": {
       "model_id": "9639c09d181a4392822388e8a080e18d",
       "version_major": 2,
       "version_minor": 0
      },
      "text/plain": [
       "HBox(children=(FloatProgress(value=0.0, max=575281.0), HTML(value='')))"
      ]
     },
     "metadata": {},
     "output_type": "display_data"
    },
    {
     "name": "stdout",
     "output_type": "stream",
     "text": [
      "\n"
     ]
    },
    {
     "data": {
      "application/vnd.jupyter.widget-view+json": {
       "model_id": "91ffe66402bb4b8ca52210a77c7fa7f2",
       "version_major": 2,
       "version_minor": 0
      },
      "text/plain": [
       "HBox(children=(FloatProgress(value=0.0, max=575281.0), HTML(value='')))"
      ]
     },
     "metadata": {},
     "output_type": "display_data"
    },
    {
     "name": "stdout",
     "output_type": "stream",
     "text": [
      "\n"
     ]
    },
    {
     "data": {
      "application/vnd.jupyter.widget-view+json": {
       "model_id": "c6867366752946f7ab2d2f32e4deec6f",
       "version_major": 2,
       "version_minor": 0
      },
      "text/plain": [
       "HBox(children=(FloatProgress(value=0.0, max=575281.0), HTML(value='')))"
      ]
     },
     "metadata": {},
     "output_type": "display_data"
    },
    {
     "name": "stdout",
     "output_type": "stream",
     "text": [
      "\n"
     ]
    },
    {
     "data": {
      "application/vnd.jupyter.widget-view+json": {
       "model_id": "aa66b1260b0d44d28084fa3300c77474",
       "version_major": 2,
       "version_minor": 0
      },
      "text/plain": [
       "HBox(children=(FloatProgress(value=0.0, max=575281.0), HTML(value='')))"
      ]
     },
     "metadata": {},
     "output_type": "display_data"
    },
    {
     "name": "stdout",
     "output_type": "stream",
     "text": [
      "\n"
     ]
    },
    {
     "data": {
      "application/vnd.jupyter.widget-view+json": {
       "model_id": "e9134399b12446b0a18a8ab804987f0a",
       "version_major": 2,
       "version_minor": 0
      },
      "text/plain": [
       "HBox(children=(FloatProgress(value=0.0, max=575281.0), HTML(value='')))"
      ]
     },
     "metadata": {},
     "output_type": "display_data"
    },
    {
     "name": "stdout",
     "output_type": "stream",
     "text": [
      "\n",
      "\n"
     ]
    }
   ],
   "source": [
    "bpr = BPR_recommender()\n",
    "bpr.fit(user_item_csr, max_iterations=20)"
   ]
  },
  {
   "cell_type": "code",
   "execution_count": 173,
   "metadata": {
    "ExecuteTime": {
     "end_time": "2020-09-28T18:49:43.017332Z",
     "start_time": "2020-09-28T18:49:38.518585Z"
    }
   },
   "outputs": [
    {
     "data": {
      "text/plain": [
       "[(1, '0    Toy Story (1995)'),\n",
       " (3114, '3045    Toy Story 2 (1999)'),\n",
       " (2687, '2618    Tarzan (1999)'),\n",
       " (364, '360    Lion King, The (1994)'),\n",
       " (1907, '1838    Mulan (1998)'),\n",
       " (551, '547    Nightmare Before Christmas, The (1993)'),\n",
       " (34, '33    Babe (1995)'),\n",
       " (661, '655    James and the Giant Peach (1996)'),\n",
       " (2294, '2225    Antz (1998)'),\n",
       " (1566, '1526    Hercules (1997)')]"
      ]
     },
     "execution_count": 173,
     "metadata": {},
     "output_type": "execute_result"
    }
   ],
   "source": [
    "similars(bpr, toy_movie_id)[:10]"
   ]
  },
  {
   "cell_type": "code",
   "execution_count": 174,
   "metadata": {
    "ExecuteTime": {
     "end_time": "2020-09-28T18:49:43.048949Z",
     "start_time": "2020-09-28T18:49:43.020331Z"
    }
   },
   "outputs": [
    {
     "data": {
      "text/plain": [
       "['257    Star Wars: Episode IV - A New Hope (1977)',\n",
       " '1180    Raiders of the Lost Ark (1981)',\n",
       " '1959    Saving Private Ryan (1998)',\n",
       " '1220    Terminator, The (1984)',\n",
       " '1196    Alien (1979)',\n",
       " '1366    Jaws (1975)',\n",
       " '1023    Die Hard (1988)',\n",
       " '3349    Thelma & Louise (1991)',\n",
       " '1885    Rocky (1976)',\n",
       " '476    Jurassic Park (1993)']"
      ]
     },
     "execution_count": 174,
     "metadata": {},
     "output_type": "execute_result"
    }
   ],
   "source": [
    "recommend(bpr, test_user_id, user_item_csr)[:10]"
   ]
  },
  {
   "cell_type": "markdown",
   "metadata": {},
   "source": [
    "### Задание 4. Не использую готовые решения, реализовать матричное разложение WARP на implicit данных"
   ]
  },
  {
   "cell_type": "code",
   "execution_count": 46,
   "metadata": {
    "ExecuteTime": {
     "end_time": "2020-09-28T22:56:51.616165Z",
     "start_time": "2020-09-28T22:56:51.605307Z"
    }
   },
   "outputs": [],
   "source": [
    "from tqdm.notebook import tqdm\n",
    "\n",
    "class WARP_recommender():\n",
    "    \n",
    "    def fit(self, input_matrix, features_dim=64, lambda_reg=0.00001, learning_rate=0.05, max_iterations=10, margin=0.6):\n",
    "        height = max(ratings['user_id']) + 1\n",
    "        W = np.random.random((height, features_dim)) / np.sqrt(features_dim)\n",
    "\n",
    "        width = max(ratings['movie_id']) + 1\n",
    "        H = np.random.random((width, features_dim)) / np.sqrt(features_dim)\n",
    "        \n",
    "        Ds = []\n",
    "        for user_id in ratings['user_id'].unique():\n",
    "            for movie_id in user_item_csr[user_id, :].indices:\n",
    "                Ds.append((user_id, movie_id))\n",
    "        losses = []\n",
    "        for epoch in tqdm(range(max_iterations)):       \n",
    "            np.random.shuffle(Ds)\n",
    "\n",
    "            for user_id, i in tqdm(Ds):\n",
    "                for n in range(1, 10):\n",
    "                    j = np.random.randint(1, width)\n",
    "                    total_neg_samples = 1\n",
    "                    while input_matrix[user_id, j] != 0:\n",
    "                        j = np.random.randint(1, width)\n",
    "\n",
    "                    if margin + np.dot(W[user_id], H[j]) > np.dot(W[user_id], H[i]):\n",
    "                        loss = np.log(10 / n)\n",
    "                        W[user_id] = W[user_id] - learning_rate * (loss * (H[j] + H[i]) + lambda_reg * W[user_id])\n",
    "                        H[i] = H[i] - learning_rate * (loss * (-W[user_id]) + lambda_reg * H[i])\n",
    "                        H[j] = H[j] - learning_rate * (loss * (W[user_id]) + lambda_reg * H[j])\n",
    "                        \n",
    "        self.W = W\n",
    "        self.H = H"
   ]
  },
  {
   "cell_type": "code",
   "execution_count": 47,
   "metadata": {
    "ExecuteTime": {
     "end_time": "2020-09-28T23:52:17.739825Z",
     "start_time": "2020-09-28T22:56:52.143522Z"
    }
   },
   "outputs": [
    {
     "data": {
      "application/vnd.jupyter.widget-view+json": {
       "model_id": "8085917e8fef47b181fa942b19845d13",
       "version_major": 2,
       "version_minor": 0
      },
      "text/plain": [
       "HBox(children=(FloatProgress(value=0.0, max=10.0), HTML(value='')))"
      ]
     },
     "metadata": {},
     "output_type": "display_data"
    },
    {
     "data": {
      "application/vnd.jupyter.widget-view+json": {
       "model_id": "9fc24bc7c49944639eb030644a0f4011",
       "version_major": 2,
       "version_minor": 0
      },
      "text/plain": [
       "HBox(children=(FloatProgress(value=0.0, max=575281.0), HTML(value='')))"
      ]
     },
     "metadata": {},
     "output_type": "display_data"
    },
    {
     "name": "stdout",
     "output_type": "stream",
     "text": [
      "\n"
     ]
    },
    {
     "data": {
      "application/vnd.jupyter.widget-view+json": {
       "model_id": "9f7aed24c3e84d8ea6c1b8eb5e48c4ea",
       "version_major": 2,
       "version_minor": 0
      },
      "text/plain": [
       "HBox(children=(FloatProgress(value=0.0, max=575281.0), HTML(value='')))"
      ]
     },
     "metadata": {},
     "output_type": "display_data"
    },
    {
     "name": "stdout",
     "output_type": "stream",
     "text": [
      "\n"
     ]
    },
    {
     "data": {
      "application/vnd.jupyter.widget-view+json": {
       "model_id": "fb3aa0b14b1f4839bc8d22760fcc74d0",
       "version_major": 2,
       "version_minor": 0
      },
      "text/plain": [
       "HBox(children=(FloatProgress(value=0.0, max=575281.0), HTML(value='')))"
      ]
     },
     "metadata": {},
     "output_type": "display_data"
    },
    {
     "name": "stdout",
     "output_type": "stream",
     "text": [
      "\n"
     ]
    },
    {
     "data": {
      "application/vnd.jupyter.widget-view+json": {
       "model_id": "beb2fd2c433b497bb914106ce566c171",
       "version_major": 2,
       "version_minor": 0
      },
      "text/plain": [
       "HBox(children=(FloatProgress(value=0.0, max=575281.0), HTML(value='')))"
      ]
     },
     "metadata": {},
     "output_type": "display_data"
    },
    {
     "name": "stdout",
     "output_type": "stream",
     "text": [
      "\n"
     ]
    },
    {
     "data": {
      "application/vnd.jupyter.widget-view+json": {
       "model_id": "4e9d13da76ac4fb8b71d1a2093855142",
       "version_major": 2,
       "version_minor": 0
      },
      "text/plain": [
       "HBox(children=(FloatProgress(value=0.0, max=575281.0), HTML(value='')))"
      ]
     },
     "metadata": {},
     "output_type": "display_data"
    },
    {
     "name": "stdout",
     "output_type": "stream",
     "text": [
      "\n"
     ]
    },
    {
     "data": {
      "application/vnd.jupyter.widget-view+json": {
       "model_id": "1364c4d47d40416fb090c8aa4c8d9895",
       "version_major": 2,
       "version_minor": 0
      },
      "text/plain": [
       "HBox(children=(FloatProgress(value=0.0, max=575281.0), HTML(value='')))"
      ]
     },
     "metadata": {},
     "output_type": "display_data"
    },
    {
     "name": "stdout",
     "output_type": "stream",
     "text": [
      "\n"
     ]
    },
    {
     "data": {
      "application/vnd.jupyter.widget-view+json": {
       "model_id": "d3ae362641a54008a18723a852b0debc",
       "version_major": 2,
       "version_minor": 0
      },
      "text/plain": [
       "HBox(children=(FloatProgress(value=0.0, max=575281.0), HTML(value='')))"
      ]
     },
     "metadata": {},
     "output_type": "display_data"
    },
    {
     "name": "stdout",
     "output_type": "stream",
     "text": [
      "\n"
     ]
    },
    {
     "data": {
      "application/vnd.jupyter.widget-view+json": {
       "model_id": "ac4b52ef09b7459f992f4473f5f0cb05",
       "version_major": 2,
       "version_minor": 0
      },
      "text/plain": [
       "HBox(children=(FloatProgress(value=0.0, max=575281.0), HTML(value='')))"
      ]
     },
     "metadata": {},
     "output_type": "display_data"
    },
    {
     "name": "stdout",
     "output_type": "stream",
     "text": [
      "\n"
     ]
    },
    {
     "data": {
      "application/vnd.jupyter.widget-view+json": {
       "model_id": "d38a4466e9974e5a9531f0364fadb952",
       "version_major": 2,
       "version_minor": 0
      },
      "text/plain": [
       "HBox(children=(FloatProgress(value=0.0, max=575281.0), HTML(value='')))"
      ]
     },
     "metadata": {},
     "output_type": "display_data"
    },
    {
     "name": "stdout",
     "output_type": "stream",
     "text": [
      "\n"
     ]
    },
    {
     "data": {
      "application/vnd.jupyter.widget-view+json": {
       "model_id": "fe4175eca21644458812fd3b2120092a",
       "version_major": 2,
       "version_minor": 0
      },
      "text/plain": [
       "HBox(children=(FloatProgress(value=0.0, max=575281.0), HTML(value='')))"
      ]
     },
     "metadata": {},
     "output_type": "display_data"
    },
    {
     "name": "stdout",
     "output_type": "stream",
     "text": [
      "\n",
      "\n"
     ]
    }
   ],
   "source": [
    "warp = WARP_recommender()\n",
    "warp.fit(user_item_csr)"
   ]
  },
  {
   "cell_type": "code",
   "execution_count": 48,
   "metadata": {
    "ExecuteTime": {
     "end_time": "2020-09-28T23:52:21.587776Z",
     "start_time": "2020-09-28T23:52:17.744820Z"
    }
   },
   "outputs": [
    {
     "data": {
      "text/plain": [
       "[(1, '0    Toy Story (1995)'),\n",
       " (2858, '2789    American Beauty (1999)'),\n",
       " (1408, '1385    Last of the Mohicans, The (1992)'),\n",
       " (2908, \"2839    Boys Don't Cry (1999)\"),\n",
       " (1552, '1513    Con Air (1997)'),\n",
       " (2617, '2548    Mummy, The (1999)'),\n",
       " (648, '642    Mission: Impossible (1996)'),\n",
       " (1721, '1672    Titanic (1997)'),\n",
       " (588, '584    Aladdin (1992)'),\n",
       " (924, '912    2001: A Space Odyssey (1968)')]"
      ]
     },
     "execution_count": 48,
     "metadata": {},
     "output_type": "execute_result"
    }
   ],
   "source": [
    "similars(warp, toy_movie_id)[:10]"
   ]
  },
  {
   "cell_type": "code",
   "execution_count": 49,
   "metadata": {
    "ExecuteTime": {
     "end_time": "2020-09-28T23:52:21.627049Z",
     "start_time": "2020-09-28T23:52:21.590824Z"
    }
   },
   "outputs": [
    {
     "data": {
      "text/plain": [
       "['2878    Goldfinger (1964)',\n",
       " '476    Jurassic Park (1993)',\n",
       " '1081    E.T. the Extra-Terrestrial (1982)',\n",
       " '1959    Saving Private Ryan (1998)',\n",
       " '1220    Terminator, The (1984)',\n",
       " '1196    Alien (1979)',\n",
       " '1183    Good, The Bad and The Ugly, The (1966)',\n",
       " '2882    Fistful of Dollars, A (1964)',\n",
       " '1366    Jaws (1975)',\n",
       " '3633    Mad Max (1979)']"
      ]
     },
     "execution_count": 49,
     "metadata": {},
     "output_type": "execute_result"
    }
   ],
   "source": [
    "recommend(warp, test_user_id, user_item_csr)[:10]"
   ]
  },
  {
   "cell_type": "code",
   "execution_count": null,
   "metadata": {},
   "outputs": [],
   "source": []
  }
 ],
 "metadata": {
  "kernelspec": {
   "display_name": "Python 3",
   "language": "python",
   "name": "python3"
  },
  "language_info": {
   "codemirror_mode": {
    "name": "ipython",
    "version": 3
   },
   "file_extension": ".py",
   "mimetype": "text/x-python",
   "name": "python",
   "nbconvert_exporter": "python",
   "pygments_lexer": "ipython3",
   "version": "3.6.4"
  }
 },
 "nbformat": 4,
 "nbformat_minor": 2
}
