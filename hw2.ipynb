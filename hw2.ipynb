{
 "cells": [
  {
   "cell_type": "code",
   "execution_count": 1,
   "metadata": {
    "ExecuteTime": {
     "end_time": "2020-10-25T00:11:38.280512Z",
     "start_time": "2020-10-25T00:11:38.261841Z"
    }
   },
   "outputs": [],
   "source": [
    "import pandas as pd\n",
    "import numpy as np\n",
    "import shap\n",
    "import xgboost as xgb\n",
    "from catboost import CatBoostClassifier\n",
    "from sklearn.model_selection import KFold, train_test_split\n",
    "from sklearn.metrics import roc_auc_score\n",
    "from sklearn.utils import shuffle\n",
    "import time\n",
    "\n",
    "shap.initjs()"
   ]
  },
  {
   "cell_type": "markdown",
   "metadata": {},
   "source": [
    "## Data preprocessing"
   ]
  },
  {
   "cell_type": "code",
   "execution_count": 2,
   "metadata": {
    "ExecuteTime": {
     "end_time": "2020-10-25T00:18:24.834113Z",
     "start_time": "2020-10-25T00:11:38.282034Z"
    }
   },
   "outputs": [
    {
     "data": {
      "text/html": [
       "<div>\n",
       "<style scoped>\n",
       "    .dataframe tbody tr th:only-of-type {\n",
       "        vertical-align: middle;\n",
       "    }\n",
       "\n",
       "    .dataframe tbody tr th {\n",
       "        vertical-align: top;\n",
       "    }\n",
       "\n",
       "    .dataframe thead th {\n",
       "        text-align: right;\n",
       "    }\n",
       "</style>\n",
       "<table border=\"1\" class=\"dataframe\">\n",
       "  <thead>\n",
       "    <tr style=\"text-align: right;\">\n",
       "      <th></th>\n",
       "      <th>msno</th>\n",
       "      <th>song_id</th>\n",
       "      <th>source_system_tab</th>\n",
       "      <th>source_screen_name</th>\n",
       "      <th>source_type</th>\n",
       "      <th>target</th>\n",
       "    </tr>\n",
       "  </thead>\n",
       "  <tbody>\n",
       "    <tr>\n",
       "      <td>0</td>\n",
       "      <td>FGtllVqz18RPiwJj/edr2gV78zirAiY/9SmYvia+kCg=</td>\n",
       "      <td>BBzumQNXUHKdEBOB7mAJuzok+IJA1c2Ryg/yzTF6tik=</td>\n",
       "      <td>explore</td>\n",
       "      <td>Explore</td>\n",
       "      <td>online-playlist</td>\n",
       "      <td>1</td>\n",
       "    </tr>\n",
       "  </tbody>\n",
       "</table>\n",
       "</div>"
      ],
      "text/plain": [
       "                                           msno  \\\n",
       "0  FGtllVqz18RPiwJj/edr2gV78zirAiY/9SmYvia+kCg=   \n",
       "\n",
       "                                        song_id source_system_tab  \\\n",
       "0  BBzumQNXUHKdEBOB7mAJuzok+IJA1c2Ryg/yzTF6tik=           explore   \n",
       "\n",
       "  source_screen_name      source_type  target  \n",
       "0            Explore  online-playlist       1  "
      ]
     },
     "execution_count": 2,
     "metadata": {},
     "output_type": "execute_result"
    }
   ],
   "source": [
    "train = pd.read_csv('train.csv')\n",
    "test = pd.read_csv('test.csv')\n",
    "train.head(1)"
   ]
  },
  {
   "cell_type": "code",
   "execution_count": 3,
   "metadata": {
    "ExecuteTime": {
     "end_time": "2020-10-25T00:18:24.932082Z",
     "start_time": "2020-10-25T00:18:24.836082Z"
    }
   },
   "outputs": [
    {
     "data": {
      "text/html": [
       "<div>\n",
       "<style scoped>\n",
       "    .dataframe tbody tr th:only-of-type {\n",
       "        vertical-align: middle;\n",
       "    }\n",
       "\n",
       "    .dataframe tbody tr th {\n",
       "        vertical-align: top;\n",
       "    }\n",
       "\n",
       "    .dataframe thead th {\n",
       "        text-align: right;\n",
       "    }\n",
       "</style>\n",
       "<table border=\"1\" class=\"dataframe\">\n",
       "  <thead>\n",
       "    <tr style=\"text-align: right;\">\n",
       "      <th></th>\n",
       "      <th>msno</th>\n",
       "      <th>city</th>\n",
       "      <th>bd</th>\n",
       "      <th>gender</th>\n",
       "      <th>registered_via</th>\n",
       "      <th>registration_init_time</th>\n",
       "      <th>expiration_date</th>\n",
       "    </tr>\n",
       "  </thead>\n",
       "  <tbody>\n",
       "    <tr>\n",
       "      <td>0</td>\n",
       "      <td>XQxgAYj3klVKjR3oxPPXYYFp4soD4TuBghkhMTD4oTw=</td>\n",
       "      <td>1</td>\n",
       "      <td>0</td>\n",
       "      <td>NaN</td>\n",
       "      <td>7</td>\n",
       "      <td>20110820</td>\n",
       "      <td>20170920</td>\n",
       "    </tr>\n",
       "  </tbody>\n",
       "</table>\n",
       "</div>"
      ],
      "text/plain": [
       "                                           msno  city  bd gender  \\\n",
       "0  XQxgAYj3klVKjR3oxPPXYYFp4soD4TuBghkhMTD4oTw=     1   0    NaN   \n",
       "\n",
       "   registered_via  registration_init_time  expiration_date  \n",
       "0               7                20110820         20170920  "
      ]
     },
     "execution_count": 3,
     "metadata": {},
     "output_type": "execute_result"
    }
   ],
   "source": [
    "members = pd.read_csv('members.csv')\n",
    "members.head(1)"
   ]
  },
  {
   "cell_type": "markdown",
   "metadata": {},
   "source": [
    "### Adding users with date processing"
   ]
  },
  {
   "cell_type": "code",
   "execution_count": 4,
   "metadata": {
    "ExecuteTime": {
     "end_time": "2020-10-25T00:18:30.807201Z",
     "start_time": "2020-10-25T00:18:24.935082Z"
    }
   },
   "outputs": [],
   "source": [
    "def process_date(df, columns):\n",
    "    for column in columns:\n",
    "        df[column + '_year'] = df[column].apply(lambda x: int(str(x)[0:4]))\n",
    "        df[column + '_month'] = df[column].apply(lambda x: int(str(x)[4:6]))\n",
    "        df[column + '_date'] = df[column].apply(lambda x: int(str(x)[6:8]))\n",
    "        \n",
    "    df.drop(columns, axis=1, inplace=True)\n",
    "    return df\n",
    "\n",
    "members = process_date(members, ['registration_init_time', 'expiration_date'])\n",
    "\n",
    "train = train.merge(members, on='msno', how='left')\n",
    "test = test.merge(members, on='msno', how='left')\n",
    "del members"
   ]
  },
  {
   "cell_type": "markdown",
   "metadata": {},
   "source": [
    "### One hot encoding of songs"
   ]
  },
  {
   "cell_type": "code",
   "execution_count": 5,
   "metadata": {
    "ExecuteTime": {
     "end_time": "2020-10-25T00:18:35.111169Z",
     "start_time": "2020-10-25T00:18:30.809164Z"
    }
   },
   "outputs": [
    {
     "data": {
      "text/html": [
       "<div>\n",
       "<style scoped>\n",
       "    .dataframe tbody tr th:only-of-type {\n",
       "        vertical-align: middle;\n",
       "    }\n",
       "\n",
       "    .dataframe tbody tr th {\n",
       "        vertical-align: top;\n",
       "    }\n",
       "\n",
       "    .dataframe thead th {\n",
       "        text-align: right;\n",
       "    }\n",
       "</style>\n",
       "<table border=\"1\" class=\"dataframe\">\n",
       "  <thead>\n",
       "    <tr style=\"text-align: right;\">\n",
       "      <th></th>\n",
       "      <th>song_id</th>\n",
       "      <th>song_length</th>\n",
       "      <th>genre_ids</th>\n",
       "      <th>artist_name</th>\n",
       "      <th>composer</th>\n",
       "      <th>lyricist</th>\n",
       "      <th>language</th>\n",
       "    </tr>\n",
       "  </thead>\n",
       "  <tbody>\n",
       "    <tr>\n",
       "      <td>0</td>\n",
       "      <td>CXoTN1eb7AI+DntdU1vbcwGRV4SCIDxZu+YD8JP8r4E=</td>\n",
       "      <td>247640</td>\n",
       "      <td>465</td>\n",
       "      <td>張信哲 (Jeff Chang)</td>\n",
       "      <td>董貞</td>\n",
       "      <td>何啟弘</td>\n",
       "      <td>3.0</td>\n",
       "    </tr>\n",
       "  </tbody>\n",
       "</table>\n",
       "</div>"
      ],
      "text/plain": [
       "                                        song_id  song_length genre_ids  \\\n",
       "0  CXoTN1eb7AI+DntdU1vbcwGRV4SCIDxZu+YD8JP8r4E=       247640       465   \n",
       "\n",
       "        artist_name composer lyricist  language  \n",
       "0  張信哲 (Jeff Chang)       董貞      何啟弘       3.0  "
      ]
     },
     "execution_count": 5,
     "metadata": {},
     "output_type": "execute_result"
    }
   ],
   "source": [
    "songs = pd.read_csv('songs.csv')\n",
    "songs.head(1)"
   ]
  },
  {
   "cell_type": "code",
   "execution_count": 6,
   "metadata": {
    "ExecuteTime": {
     "end_time": "2020-10-25T00:18:39.952117Z",
     "start_time": "2020-10-25T00:18:35.113165Z"
    }
   },
   "outputs": [],
   "source": [
    "songs_genres = songs['genre_ids'].apply(lambda x: [int(v) for v in str(x).split('|') if v != 'nan'])"
   ]
  },
  {
   "cell_type": "code",
   "execution_count": 7,
   "metadata": {
    "ExecuteTime": {
     "end_time": "2020-10-25T00:18:41.481686Z",
     "start_time": "2020-10-25T00:18:39.954100Z"
    }
   },
   "outputs": [],
   "source": [
    "unique_genres = None\n",
    "for genres in songs_genres:\n",
    "    genres = np.array(genres)\n",
    "    if unique_genres is None:\n",
    "        unique_genres = genres\n",
    "        continue\n",
    "    unique_genres = np.unique(np.concatenate([unique_genres, genres]))"
   ]
  },
  {
   "cell_type": "code",
   "execution_count": 8,
   "metadata": {
    "ExecuteTime": {
     "end_time": "2020-10-25T00:18:41.486687Z",
     "start_time": "2020-10-25T00:11:39.865Z"
    }
   },
   "outputs": [],
   "source": [
    "one_hot = np.zeros((len(songs_genres), len(unique_genres)))\n",
    "for song_id, song_genres in enumerate(songs_genres):\n",
    "    for genre in song_genres:\n",
    "        genre_id = list(unique_genres).index(genre)\n",
    "        one_hot[song_id, genre_id] = 1\n",
    "        \n",
    "for genre_id, genre in enumerate(unique_genres):\n",
    "    songs['genre_' + str(int(genre))] = one_hot[:, genre_id]"
   ]
  },
  {
   "cell_type": "code",
   "execution_count": 9,
   "metadata": {
    "ExecuteTime": {
     "end_time": "2020-10-25T00:18:41.487691Z",
     "start_time": "2020-10-25T00:11:40.558Z"
    }
   },
   "outputs": [],
   "source": [
    "songs = songs.drop(['genre_ids'], axis=1)\n",
    "\n",
    "train = train.merge(songs, on='song_id', how='left')\n",
    "del songs"
   ]
  },
  {
   "cell_type": "markdown",
   "metadata": {},
   "source": [
    "### Adding publication year of each song"
   ]
  },
  {
   "cell_type": "code",
   "execution_count": 10,
   "metadata": {},
   "outputs": [
    {
     "data": {
      "text/html": [
       "<div>\n",
       "<style scoped>\n",
       "    .dataframe tbody tr th:only-of-type {\n",
       "        vertical-align: middle;\n",
       "    }\n",
       "\n",
       "    .dataframe tbody tr th {\n",
       "        vertical-align: top;\n",
       "    }\n",
       "\n",
       "    .dataframe thead th {\n",
       "        text-align: right;\n",
       "    }\n",
       "</style>\n",
       "<table border=\"1\" class=\"dataframe\">\n",
       "  <thead>\n",
       "    <tr style=\"text-align: right;\">\n",
       "      <th></th>\n",
       "      <th>song_id</th>\n",
       "      <th>name</th>\n",
       "      <th>isrc</th>\n",
       "    </tr>\n",
       "  </thead>\n",
       "  <tbody>\n",
       "    <tr>\n",
       "      <td>0</td>\n",
       "      <td>LP7pLJoJFBvyuUwvu+oLzjT+bI+UeBPURCecJsX1jjs=</td>\n",
       "      <td>我們</td>\n",
       "      <td>TWUM71200043</td>\n",
       "    </tr>\n",
       "  </tbody>\n",
       "</table>\n",
       "</div>"
      ],
      "text/plain": [
       "                                        song_id name          isrc\n",
       "0  LP7pLJoJFBvyuUwvu+oLzjT+bI+UeBPURCecJsX1jjs=   我們  TWUM71200043"
      ]
     },
     "execution_count": 10,
     "metadata": {},
     "output_type": "execute_result"
    }
   ],
   "source": [
    "extra_songs = pd.read_csv('song_extra_info.csv')\n",
    "extra_songs.head(1)"
   ]
  },
  {
   "cell_type": "code",
   "execution_count": 11,
   "metadata": {},
   "outputs": [],
   "source": [
    "def isrc_to_year(isrc):\n",
    "    if type(isrc) == str:\n",
    "        val = int(isrc[5:7])\n",
    "        if val > 17:\n",
    "            return 1900 + val\n",
    "        else:\n",
    "            return 2000 + val\n",
    "    else:\n",
    "        return np.nan\n",
    "    \n",
    "extra_songs['song_year'] = extra_songs['isrc'].apply(isrc_to_year)\n",
    "\n",
    "train = train.merge(extra_songs, on='song_id', how='left')\n",
    "songs = train[['song_id', 'artist_name', 'name', 'language']]\n",
    "train.drop(['isrc', 'name'], axis=1, inplace=True)\n",
    "del extra_songs "
   ]
  },
  {
   "cell_type": "markdown",
   "metadata": {},
   "source": [
    "### Counters: for each user count interactions with same song and artist in the past"
   ]
  },
  {
   "cell_type": "code",
   "execution_count": 12,
   "metadata": {},
   "outputs": [],
   "source": [
    "from datetime import datetime\n",
    "\n",
    "start = datetime.now()\n",
    "\n",
    "past_records = pd.DataFrame().append(train.iloc[0])\n",
    "all_genres = [col for col in train if col.startswith('genre_')]\n",
    "\n",
    "def count_interaction(df, column):\n",
    "    interaction_col = column + '_interaction'\n",
    "    df['interactions'] = 0\n",
    "    return df[['msno', column, 'interactions']].groupby(['msno', column], as_index=False).cumcount()\n",
    "\n",
    "train['artist_interaction'] = count_interaction(train, 'artist_name')\n",
    "train['song_interaction'] = count_interaction(train, 'song_id')\n",
    "train.drop(columns=['interactions'], inplace=True)"
   ]
  },
  {
   "cell_type": "markdown",
   "metadata": {},
   "source": [
    "### Categorize columns"
   ]
  },
  {
   "cell_type": "code",
   "execution_count": 13,
   "metadata": {},
   "outputs": [],
   "source": [
    "train = train.fillna(0)\n",
    "\n",
    "small_train = train[:5000]\n",
    "full_train = train"
   ]
  },
  {
   "cell_type": "code",
   "execution_count": 14,
   "metadata": {},
   "outputs": [
    {
     "data": {
      "text/plain": [
       "7377418"
      ]
     },
     "execution_count": 14,
     "metadata": {},
     "output_type": "execute_result"
    }
   ],
   "source": [
    "len(train)"
   ]
  },
  {
   "cell_type": "code",
   "execution_count": 15,
   "metadata": {},
   "outputs": [],
   "source": [
    "train = full_train"
   ]
  },
  {
   "cell_type": "code",
   "execution_count": 41,
   "metadata": {
    "ExecuteTime": {
     "end_time": "2020-10-25T00:18:41.489724Z",
     "start_time": "2020-10-25T00:11:48.715Z"
    }
   },
   "outputs": [],
   "source": [
    "X = train.drop(['target'], axis=1)\n",
    "y = train['target'].values"
   ]
  },
  {
   "cell_type": "code",
   "execution_count": 42,
   "metadata": {},
   "outputs": [],
   "source": [
    "def prepare_data_for_gbdt(X):\n",
    "    for col in X.select_dtypes(include=['object']).columns:\n",
    "        X[col] = X[col].astype('category')\n",
    "        \n",
    "    for col in X.select_dtypes(include=['category']).columns:\n",
    "        X[col] = X[col].cat.codes\n",
    "        \n",
    "    return X"
   ]
  },
  {
   "cell_type": "code",
   "execution_count": 43,
   "metadata": {},
   "outputs": [
    {
     "data": {
      "text/html": [
       "<div>\n",
       "<style scoped>\n",
       "    .dataframe tbody tr th:only-of-type {\n",
       "        vertical-align: middle;\n",
       "    }\n",
       "\n",
       "    .dataframe tbody tr th {\n",
       "        vertical-align: top;\n",
       "    }\n",
       "\n",
       "    .dataframe thead th {\n",
       "        text-align: right;\n",
       "    }\n",
       "</style>\n",
       "<table border=\"1\" class=\"dataframe\">\n",
       "  <thead>\n",
       "    <tr style=\"text-align: right;\">\n",
       "      <th></th>\n",
       "      <th>song_id</th>\n",
       "      <th>artist_name</th>\n",
       "      <th>name</th>\n",
       "      <th>language</th>\n",
       "    </tr>\n",
       "  </thead>\n",
       "  <tbody>\n",
       "    <tr>\n",
       "      <td>0</td>\n",
       "      <td>BBzumQNXUHKdEBOB7mAJuzok+IJA1c2Ryg/yzTF6tik=</td>\n",
       "      <td>Bastille</td>\n",
       "      <td>Good Grief</td>\n",
       "      <td>52.0</td>\n",
       "    </tr>\n",
       "    <tr>\n",
       "      <td>1</td>\n",
       "      <td>bhp/MpSNoqoxOIB+/l8WPqu6jldth4DIpCm3ayXnJqM=</td>\n",
       "      <td>Various Artists</td>\n",
       "      <td>Lords of Cardboard</td>\n",
       "      <td>52.0</td>\n",
       "    </tr>\n",
       "    <tr>\n",
       "      <td>2</td>\n",
       "      <td>JNWfrrC7zNN7BdMpsISKa4Mw+xVJYNnxXh3/Epw7QgY=</td>\n",
       "      <td>Nas</td>\n",
       "      <td>Hip Hop Is Dead(Album Version (Edited))</td>\n",
       "      <td>52.0</td>\n",
       "    </tr>\n",
       "    <tr>\n",
       "      <td>3</td>\n",
       "      <td>2A87tzfnJTSWqD7gIZHisolhe4DMdzkbd6LzO1KHjNs=</td>\n",
       "      <td>Soundway</td>\n",
       "      <td>Disco Africa</td>\n",
       "      <td>-1.0</td>\n",
       "    </tr>\n",
       "    <tr>\n",
       "      <td>4</td>\n",
       "      <td>3qm6XTZ6MOCU11x8FIVbAGH5l5uMkT3/ZalWG1oo2Gc=</td>\n",
       "      <td>Brett Young</td>\n",
       "      <td>Sleep Without You</td>\n",
       "      <td>52.0</td>\n",
       "    </tr>\n",
       "  </tbody>\n",
       "</table>\n",
       "</div>"
      ],
      "text/plain": [
       "                                        song_id      artist_name  \\\n",
       "0  BBzumQNXUHKdEBOB7mAJuzok+IJA1c2Ryg/yzTF6tik=         Bastille   \n",
       "1  bhp/MpSNoqoxOIB+/l8WPqu6jldth4DIpCm3ayXnJqM=  Various Artists   \n",
       "2  JNWfrrC7zNN7BdMpsISKa4Mw+xVJYNnxXh3/Epw7QgY=              Nas   \n",
       "3  2A87tzfnJTSWqD7gIZHisolhe4DMdzkbd6LzO1KHjNs=         Soundway   \n",
       "4  3qm6XTZ6MOCU11x8FIVbAGH5l5uMkT3/ZalWG1oo2Gc=      Brett Young   \n",
       "\n",
       "                                      name  language  \n",
       "0                               Good Grief      52.0  \n",
       "1                       Lords of Cardboard      52.0  \n",
       "2  Hip Hop Is Dead(Album Version (Edited))      52.0  \n",
       "3                             Disco Africa      -1.0  \n",
       "4                        Sleep Without You      52.0  "
      ]
     },
     "execution_count": 43,
     "metadata": {},
     "output_type": "execute_result"
    }
   ],
   "source": [
    "songs.head()"
   ]
  },
  {
   "cell_type": "markdown",
   "metadata": {},
   "source": [
    "## Hyperparameter tuning"
   ]
  },
  {
   "cell_type": "code",
   "execution_count": 44,
   "metadata": {},
   "outputs": [],
   "source": [
    "# Xgboost\n",
    "params = {}\n",
    "params['objective'] = 'binary:logistic'\n",
    "params['tree_method'] = 'gpu_hist'\n",
    "params['learning_rate'] = 0.2\n",
    "params['n_estimators'] = 500\n",
    "params['predictor'] = 'gpu_predictor'"
   ]
  },
  {
   "cell_type": "code",
   "execution_count": 49,
   "metadata": {},
   "outputs": [],
   "source": [
    "X_param = prepare_data_for_gbdt(X[:10000].copy()).values\n",
    "y_param = y[:10000]\n",
    "X_train, X_test, y_train, y_test = train_test_split(X_param, y_param, test_size=0.1)"
   ]
  },
  {
   "cell_type": "code",
   "execution_count": 53,
   "metadata": {},
   "outputs": [
    {
     "data": {
      "text/plain": [
       "({'max_depth': 9, 'min_child_weight': 1}, 0.8514296238561151)"
      ]
     },
     "execution_count": 53,
     "metadata": {},
     "output_type": "execute_result"
    }
   ],
   "source": [
    "from sklearn.model_selection import GridSearchCV\n",
    "\n",
    "params1 = {\n",
    "    'max_depth':range(3, 11, 2),\n",
    "    'min_child_weight' : range(1, 9, 2)\n",
    "}\n",
    "\n",
    "gs1 = GridSearchCV(estimator=xgb.XGBClassifier(**params), param_grid=params1, scoring='roc_auc')\n",
    "gs1.fit(X_train, y_train)\n",
    "gs1.best_params_, gs1.best_score_"
   ]
  },
  {
   "cell_type": "code",
   "execution_count": 57,
   "metadata": {},
   "outputs": [
    {
     "data": {
      "text/plain": [
       "{'max_depth': 10, 'min_child_weight': 0.25}"
      ]
     },
     "execution_count": 57,
     "metadata": {},
     "output_type": "execute_result"
    }
   ],
   "source": [
    "params1 = {\n",
    "    'max_depth':[8, 9, 10],\n",
    "    'min_child_weight' : [0, 0.25, 0.5, 1, 2]\n",
    "}\n",
    "\n",
    "gs1 = GridSearchCV(estimator=xgb.XGBClassifier(**params), param_grid=params1, scoring='roc_auc')\n",
    "gs1.fit(X_train, y_train)\n",
    "gs1.best_params_"
   ]
  },
  {
   "cell_type": "code",
   "execution_count": 55,
   "metadata": {},
   "outputs": [
    {
     "data": {
      "text/plain": [
       "({'colsample_bytree': 0.6, 'subsample': 0.9}, 0.8479131236600006)"
      ]
     },
     "execution_count": 55,
     "metadata": {},
     "output_type": "execute_result"
    }
   ],
   "source": [
    "params2 = {\n",
    "    'subsample': [i / 10.0 for i in range(6, 10)],\n",
    "    'colsample_bytree' : [i / 10.0 for i in range(6, 10)]\n",
    "}\n",
    "\n",
    "gs2 = GridSearchCV(estimator=xgb.XGBClassifier(**params), param_grid=params2, scoring='roc_auc')\n",
    "gs2.fit(X_train, y_train)\n",
    "gs2.best_params_, gs2.best_score_"
   ]
  },
  {
   "cell_type": "code",
   "execution_count": 59,
   "metadata": {},
   "outputs": [
    {
     "data": {
      "text/plain": [
       "({'colsample_bytree': 0.96, 'subsample': 0.66}, 0.8421167211319881)"
      ]
     },
     "execution_count": 59,
     "metadata": {},
     "output_type": "execute_result"
    }
   ],
   "source": [
    "params2 = {\n",
    "    'subsample':[i / 100.0 for i in range(50, 70, 4)],\n",
    "    'colsample_bytree' : [i / 100.0 for i in range(80, 100, 4)]\n",
    "}\n",
    "\n",
    "gs2 = GridSearchCV(estimator=xgb.XGBClassifier(**params), param_grid=params2, scoring='roc_auc')\n",
    "gs2.fit(X_train, y_train)\n",
    "gs2.best_params_, gs2.best_score_"
   ]
  },
  {
   "cell_type": "code",
   "execution_count": 56,
   "metadata": {},
   "outputs": [
    {
     "data": {
      "text/plain": [
       "({'reg_alpha': 1}, 0.8511134443007901)"
      ]
     },
     "execution_count": 56,
     "metadata": {},
     "output_type": "execute_result"
    }
   ],
   "source": [
    "params3 = {\n",
    "    'reg_alpha':[1e-5, 1e-2, 0.1, 1, 2, 5, 10, 100]\n",
    "}\n",
    "\n",
    "gs3 = GridSearchCV(estimator=xgb.XGBClassifier(**params), param_grid=params3, scoring='roc_auc')\n",
    "gs3.fit(X_train, y_train)\n",
    "gs3.best_params_, gs3.best_score_"
   ]
  },
  {
   "cell_type": "code",
   "execution_count": 60,
   "metadata": {},
   "outputs": [
    {
     "data": {
      "text/plain": [
       "({'reg_alpha': 1}, 0.8511134443007901)"
      ]
     },
     "execution_count": 60,
     "metadata": {},
     "output_type": "execute_result"
    }
   ],
   "source": [
    "params3 = {\n",
    "    'reg_alpha':[0.1, 0.2, 0.5, 0.7, 0.9, 1, 1.2, 1.5, 2]\n",
    "}\n",
    "\n",
    "gs3 = GridSearchCV(estimator=xgb.XGBClassifier(**params), param_grid=params3, scoring='roc_auc')\n",
    "gs3.fit(X_train, y_train)\n",
    "gs3.best_params_, gs3.best_score_"
   ]
  },
  {
   "cell_type": "code",
   "execution_count": 61,
   "metadata": {},
   "outputs": [
    {
     "data": {
      "text/plain": [
       "({'objective': 'binary:logistic'}, 0.8466262473461621)"
      ]
     },
     "execution_count": 61,
     "metadata": {},
     "output_type": "execute_result"
    }
   ],
   "source": [
    "params4 = {\n",
    "    'objective': ['binary:logistic', 'reg:squarederror', 'binary:hinge']\n",
    "}\n",
    "\n",
    "gs4 = GridSearchCV(estimator=xgb.XGBClassifier(**params), param_grid=params4, scoring='roc_auc')\n",
    "gs4.fit(X_train, y_train)\n",
    "gs4.best_params_, gs4.best_score_"
   ]
  },
  {
   "cell_type": "code",
   "execution_count": 63,
   "metadata": {},
   "outputs": [
    {
     "data": {
      "text/plain": [
       "({'n_estimators': 300}, 0.8501347677578623)"
      ]
     },
     "execution_count": 63,
     "metadata": {},
     "output_type": "execute_result"
    }
   ],
   "source": [
    "params5 = {\n",
    "    'n_estimators': [300, 500, 700, 900, 1100]\n",
    "}\n",
    "\n",
    "gs5 = GridSearchCV(estimator=xgb.XGBClassifier(**params), param_grid=params5, scoring='roc_auc')\n",
    "gs5.fit(X_train, y_train)\n",
    "gs5.best_params_, gs5.best_score_"
   ]
  },
  {
   "cell_type": "code",
   "execution_count": 65,
   "metadata": {},
   "outputs": [
    {
     "data": {
      "text/plain": [
       "({'n_estimators': 150}, 0.8514738862117766)"
      ]
     },
     "execution_count": 65,
     "metadata": {},
     "output_type": "execute_result"
    }
   ],
   "source": [
    "params5 = {\n",
    "    'n_estimators': [100, 150, 200, 250, 300, 350]\n",
    "}\n",
    "\n",
    "gs5 = GridSearchCV(estimator=xgb.XGBClassifier(**params), param_grid=params5, scoring='roc_auc')\n",
    "gs5.fit(X_train, y_train)\n",
    "gs5.best_params_, gs5.best_score_"
   ]
  },
  {
   "cell_type": "code",
   "execution_count": 66,
   "metadata": {},
   "outputs": [],
   "source": [
    "final_params = params\n",
    "final_params['objective'] = 'binary:logistic'\n",
    "final_params['tree_method'] = 'gpu_hist'\n",
    "final_params['learning_rate'] = 0.1\n",
    "final_params['n_estimators'] = 150\n",
    "final_params['reg_alpha'] = 1\n",
    "final_params['subsample'] = 0.66\n",
    "final_params['colsample_bytree'] = 0.96\n",
    "final_params['max_depth'] = 10\n",
    "final_params['min_child_weight'] = 0.25"
   ]
  },
  {
   "cell_type": "markdown",
   "metadata": {},
   "source": [
    "# Task 1"
   ]
  },
  {
   "cell_type": "code",
   "execution_count": 67,
   "metadata": {},
   "outputs": [
    {
     "data": {
      "text/plain": [
       "XGBClassifier(base_score=0.5, booster='gbtree', colsample_bylevel=1,\n",
       "              colsample_bynode=1, colsample_bytree=0.96, gamma=0, gpu_id=0,\n",
       "              importance_type='gain', interaction_constraints='',\n",
       "              learning_rate=0.1, max_delta_step=0, max_depth=10,\n",
       "              min_child_weight=0.25, missing=nan,\n",
       "              monotone_constraints='(0,0,0,0,0,0,0,0,0,0,0,0,0,0,0,0,0,0,0,0,0,0,0,0,0,0,0,0,0,0,0,0,0,0,0,0...0,0,0,0,0,0,0,0,0,0,0,0,0,0,0,0,0,0,0,0,0,0,0,0,0,0,0,0,0,0,0,0,0,0,0,0,0,0,0,0,0,0,0,0,0,0,0,0,0,0,0,0,0,0,0,0,0,0,0,0,0,0,0,0,0,0,0,0,0,0,0,0,0,0,0,0,0,0,0,0,0,0,0,0)',\n",
       "              n_estimators=150, n_jobs=0, num_parallel_tree=1, random_state=0,\n",
       "              reg_alpha=1, reg_lambda=1, scale_pos_weight=1, subsample=0.66,\n",
       "              tree_method='gpu_hist', validate_parameters=1, verbosity=None)"
      ]
     },
     "execution_count": 67,
     "metadata": {},
     "output_type": "execute_result"
    }
   ],
   "source": [
    "gbdt = xgb.XGBClassifier(**final_params)\n",
    "gbdt.fit(X_train, y_train)"
   ]
  },
  {
   "cell_type": "code",
   "execution_count": 68,
   "metadata": {},
   "outputs": [
    {
     "data": {
      "image/png": "[encoded data removed]",
      "text/plain": [
       "<Figure size 576x684 with 1 Axes>"
      ]
     },
     "metadata": {
      "needs_background": "light"
     },
     "output_type": "display_data"
    }
   ],
   "source": [
    "expl = shap.TreeExplainer(gbdt)\n",
    "\n",
    "shap.summary_plot(expl.shap_values(X_train), X.columns, plot_type='bar')"
   ]
  },
  {
   "cell_type": "code",
   "execution_count": 70,
   "metadata": {
    "ExecuteTime": {
     "end_time": "2020-10-25T00:18:41.493687Z",
     "start_time": "2020-10-25T00:11:50.331Z"
    }
   },
   "outputs": [
    {
     "name": "stdout",
     "output_type": "stream",
     "text": [
      "fold number 1\n",
      "fold number 2\n",
      "fold number 3\n",
      "fold number 4\n",
      "fold number 5\n",
      "0:08:27.003389\n"
     ]
    }
   ],
   "source": [
    "# Evaluation\n",
    "kf = KFold(5)\n",
    "\n",
    "X_raw_gbdt = prepare_data_for_gbdt(X).values\n",
    "\n",
    "ground_truths = []\n",
    "predictions = []\n",
    "start = datetime.now()\n",
    "for iteration, (train_idxs, test_idxs) in enumerate(kf.split(X_raw_gbdt)):\n",
    "    print('fold number', iteration + 1)\n",
    "    X_train, X_test = X_raw_gbdt[train_idxs], X_raw_gbdt[test_idxs]\n",
    "    y_train, y_test = y[train_idxs], y[test_idxs]\n",
    "\n",
    "    gbdt = xgb.XGBClassifier(**final_params)\n",
    "    gbdt.fit(X_train, y_train)\n",
    "    prediction = gbdt.predict(X_test)\n",
    "    \n",
    "    ground_truths.append(y_test)\n",
    "    predictions.append(prediction)\n",
    "print(datetime.now() - start)"
   ]
  },
  {
   "cell_type": "code",
   "execution_count": 71,
   "metadata": {},
   "outputs": [
    {
     "name": "stdout",
     "output_type": "stream",
     "text": [
      "0.6998047696676671\n",
      "0.6678834777828841\n",
      "0.6438430586598707\n",
      "0.6241751516401907\n",
      "0.6083782940763607\n",
      "mean 0.6488169503653947\n"
     ]
    }
   ],
   "source": [
    "def score_auc(ground_truths, predictions):\n",
    "    aucs = []\n",
    "    for gt, pred in zip(ground_truths, predictions):\n",
    "        roc_auc = roc_auc_score(gt, pred)\n",
    "        print(roc_auc)\n",
    "        aucs.append(roc_auc)\n",
    "    mean_auc = np.mean(aucs)\n",
    "    print('mean', mean_auc)\n",
    "    \n",
    "score_auc(ground_truths, predictions)"
   ]
  },
  {
   "cell_type": "markdown",
   "metadata": {},
   "source": [
    "# Task 2"
   ]
  },
  {
   "cell_type": "code",
   "execution_count": 72,
   "metadata": {},
   "outputs": [],
   "source": [
    "train = full_train"
   ]
  },
  {
   "cell_type": "code",
   "execution_count": 135,
   "metadata": {},
   "outputs": [],
   "source": [
    "X = train.drop(['target'], axis=1)[:500000]\n",
    "y = train['target'].values[:500000]"
   ]
  },
  {
   "cell_type": "markdown",
   "metadata": {},
   "source": [
    "## Preparing Word2Vec model"
   ]
  },
  {
   "cell_type": "code",
   "execution_count": 136,
   "metadata": {},
   "outputs": [],
   "source": [
    "from gensim.models import Word2Vec\n",
    "import multiprocessing\n",
    "\n",
    "hidden_dim = 200\n",
    "\n",
    "def extract_histories(X):\n",
    "    return X.groupby('msno')['song_id'].apply(list)\n",
    "\n",
    "def train_word2vec(histories):\n",
    "    w2v = Word2Vec(window=10, sg=1, hs=0, size=hidden_dim, negative=10, alpha=0.03, min_alpha=0.0007, workers=multiprocessing.cpu_count())\n",
    "    w2v.build_vocab(histories, progress_per=100)\n",
    "    w2v.train(histories, total_examples=w2v.corpus_count, epochs=10, report_delay=1)\n",
    "    print(w2v[w2v.wv.vocab].shape)\n",
    "    print(w2v)\n",
    "    w2v.init_sims(replace=True)\n",
    "    return w2v"
   ]
  },
  {
   "cell_type": "code",
   "execution_count": 137,
   "metadata": {},
   "outputs": [
    {
     "data": {
      "text/plain": [
       "13745"
      ]
     },
     "execution_count": 137,
     "metadata": {},
     "output_type": "execute_result"
    }
   ],
   "source": [
    "histories = extract_histories(X)\n",
    "len(histories)"
   ]
  },
  {
   "cell_type": "code",
   "execution_count": 138,
   "metadata": {},
   "outputs": [
    {
     "name": "stdout",
     "output_type": "stream",
     "text": [
      "(13068, 200)\n",
      "Word2Vec(vocab=13068, size=200, alpha=0.03)\n"
     ]
    },
    {
     "name": "stderr",
     "output_type": "stream",
     "text": [
      "Call to deprecated `__getitem__` (Method will be removed in 4.0.0, use self.wv.__getitem__() instead).\n"
     ]
    }
   ],
   "source": [
    "w2v = train_word2vec(histories)"
   ]
  },
  {
   "cell_type": "code",
   "execution_count": 139,
   "metadata": {},
   "outputs": [],
   "source": [
    "example_song_id = 'M9cjhJoFuF3etW4qiz5e4cEuBo0aM3MAj4HtaL2b9cs=' # Lady Gaga Bad Romance"
   ]
  },
  {
   "cell_type": "code",
   "execution_count": 140,
   "metadata": {},
   "outputs": [
    {
     "data": {
      "text/html": [
       "<div>\n",
       "<style scoped>\n",
       "    .dataframe tbody tr th:only-of-type {\n",
       "        vertical-align: middle;\n",
       "    }\n",
       "\n",
       "    .dataframe tbody tr th {\n",
       "        vertical-align: top;\n",
       "    }\n",
       "\n",
       "    .dataframe thead th {\n",
       "        text-align: right;\n",
       "    }\n",
       "</style>\n",
       "<table border=\"1\" class=\"dataframe\">\n",
       "  <thead>\n",
       "    <tr style=\"text-align: right;\">\n",
       "      <th></th>\n",
       "      <th>artist_name</th>\n",
       "      <th>name</th>\n",
       "      <th>language</th>\n",
       "      <th>similarity</th>\n",
       "    </tr>\n",
       "  </thead>\n",
       "  <tbody>\n",
       "    <tr>\n",
       "      <td>13883</td>\n",
       "      <td>Lady Gaga</td>\n",
       "      <td>Bad Romance</td>\n",
       "      <td>52.0</td>\n",
       "      <td>1.000000</td>\n",
       "    </tr>\n",
       "    <tr>\n",
       "      <td>16059</td>\n",
       "      <td>Lady Gaga</td>\n",
       "      <td>Poker Face</td>\n",
       "      <td>52.0</td>\n",
       "      <td>0.736729</td>\n",
       "    </tr>\n",
       "    <tr>\n",
       "      <td>24945</td>\n",
       "      <td>Lady Gaga</td>\n",
       "      <td>Judas</td>\n",
       "      <td>52.0</td>\n",
       "      <td>0.720109</td>\n",
       "    </tr>\n",
       "    <tr>\n",
       "      <td>23935</td>\n",
       "      <td>Lady Gaga</td>\n",
       "      <td>Paparazzi</td>\n",
       "      <td>52.0</td>\n",
       "      <td>0.717713</td>\n",
       "    </tr>\n",
       "    <tr>\n",
       "      <td>13050</td>\n",
       "      <td>Lady Gaga</td>\n",
       "      <td>The Edge Of Glory</td>\n",
       "      <td>52.0</td>\n",
       "      <td>0.697075</td>\n",
       "    </tr>\n",
       "    <tr>\n",
       "      <td>9050</td>\n",
       "      <td>Lady Gaga</td>\n",
       "      <td>Monster</td>\n",
       "      <td>52.0</td>\n",
       "      <td>0.687198</td>\n",
       "    </tr>\n",
       "    <tr>\n",
       "      <td>12602</td>\n",
       "      <td>Lady Gaga</td>\n",
       "      <td>Speechless</td>\n",
       "      <td>52.0</td>\n",
       "      <td>0.678224</td>\n",
       "    </tr>\n",
       "    <tr>\n",
       "      <td>25253</td>\n",
       "      <td>Lady Gaga</td>\n",
       "      <td>Telephone</td>\n",
       "      <td>52.0</td>\n",
       "      <td>0.660624</td>\n",
       "    </tr>\n",
       "    <tr>\n",
       "      <td>90782</td>\n",
       "      <td>Lady Gaga</td>\n",
       "      <td>LoveGame</td>\n",
       "      <td>52.0</td>\n",
       "      <td>0.659846</td>\n",
       "    </tr>\n",
       "    <tr>\n",
       "      <td>13895</td>\n",
       "      <td>Lady Gaga</td>\n",
       "      <td>Born This Way</td>\n",
       "      <td>52.0</td>\n",
       "      <td>0.645819</td>\n",
       "    </tr>\n",
       "    <tr>\n",
       "      <td>18851</td>\n",
       "      <td>Lady Gaga</td>\n",
       "      <td>Applause</td>\n",
       "      <td>52.0</td>\n",
       "      <td>0.642587</td>\n",
       "    </tr>\n",
       "  </tbody>\n",
       "</table>\n",
       "</div>"
      ],
      "text/plain": [
       "      artist_name               name  language  similarity\n",
       "13883   Lady Gaga        Bad Romance      52.0    1.000000\n",
       "16059   Lady Gaga         Poker Face      52.0    0.736729\n",
       "24945   Lady Gaga              Judas      52.0    0.720109\n",
       "23935   Lady Gaga          Paparazzi      52.0    0.717713\n",
       "13050   Lady Gaga  The Edge Of Glory      52.0    0.697075\n",
       "9050    Lady Gaga            Monster      52.0    0.687198\n",
       "12602   Lady Gaga         Speechless      52.0    0.678224\n",
       "25253   Lady Gaga          Telephone      52.0    0.660624\n",
       "90782   Lady Gaga           LoveGame      52.0    0.659846\n",
       "13895   Lady Gaga      Born This Way      52.0    0.645819\n",
       "18851   Lady Gaga           Applause      52.0    0.642587"
      ]
     },
     "execution_count": 140,
     "metadata": {},
     "output_type": "execute_result"
    }
   ],
   "source": [
    "raw_similars = w2v.wv.most_similar(positive=example_song_id)\n",
    "\n",
    "similars = pd.DataFrame([])\n",
    "song = songs[songs['song_id'] == example_song_id].drop_duplicates()[['artist_name', 'name', 'language']]\n",
    "song['similarity'] = 1\n",
    "similars = similars.append(song)\n",
    "\n",
    "for song_id, similarity in raw_similars:\n",
    "    song = songs[songs['song_id'] == song_id].drop_duplicates()[['artist_name', 'name', 'language']]\n",
    "    song['similarity'] = similarity\n",
    "    similars = similars.append(song)\n",
    "    \n",
    "similars"
   ]
  },
  {
   "cell_type": "markdown",
   "metadata": {},
   "source": [
    "## Word2Vec as a recommender system"
   ]
  },
  {
   "cell_type": "code",
   "execution_count": 141,
   "metadata": {},
   "outputs": [],
   "source": [
    "def create_user_embeddings(X, word2vec_model):\n",
    "    user_embeddings = {}\n",
    "    users = np.unique(X['msno'].values)\n",
    "    \n",
    "    for user_id in users:\n",
    "        user_songs = X[X['msno'] == user_id]['song_id']\n",
    "\n",
    "        user_embedding = user_songs.apply(lambda song_id: word2vec_model.wv[song_id] if song_id in word2vec_model.wv else np.zeros(hidden_dim)).mean()\n",
    "        user_embeddings[user_id] = user_embedding \n",
    "    \n",
    "    return user_embeddings"
   ]
  },
  {
   "cell_type": "code",
   "execution_count": 149,
   "metadata": {},
   "outputs": [],
   "source": [
    "from scipy import spatial\n",
    "\n",
    "def similarity_distance(song_id, user_id, w2v, user_emb):\n",
    "    user_embedding = user_emb[user_id] if user_id in user_emb else np.zeros(hidden_dim)\n",
    "    song_embedding = w2v.wv[song_id] if song_id in w2v.wv else np.zeros(hidden_dim)\n",
    "    # cosine distance between zero vectors\n",
    "    if np.linalg.norm(user_embedding) < 1e-9 or np.linalg.norm(song_embedding) < 1e-9:\n",
    "        return 0\n",
    "    \n",
    "    distance = spatial.distance.cosine(user_embedding, song_embedding)\n",
    "    return distance\n",
    "\n",
    "def compute_score(X_test, y_test, w2v, user_emb):\n",
    "    user2emb = X_test['msno'].apply(lambda user_id: user_emb[user_id] if user_id in user_emb else np.zeros(hidden_dim)).values\n",
    "    song2emb = X_test['song_id'].apply(lambda song_id: w2v.wv[song_id] if song_id in w2v.wv else np.zeros(hidden_dim)).values\n",
    "    \n",
    "    scores = [np.dot(song_embedding, user_embedding) for user_embedding, song_embedding in zip(user2emb, song2emb)]\n",
    "    return scores"
   ]
  },
  {
   "cell_type": "code",
   "execution_count": 143,
   "metadata": {},
   "outputs": [],
   "source": [
    "user_emb = create_user_embeddings(X, w2v)"
   ]
  },
  {
   "cell_type": "code",
   "execution_count": 150,
   "metadata": {},
   "outputs": [
    {
     "name": "stdout",
     "output_type": "stream",
     "text": [
      "fold number 1\n",
      "fold number 2\n",
      "fold number 3\n",
      "fold number 4\n",
      "fold number 5\n",
      "0:00:06.465770\n"
     ]
    }
   ],
   "source": [
    "# Evaluation\n",
    "kf = KFold(5)\n",
    "\n",
    "word2vec_ground_truths = []\n",
    "word2vec_predictions = []\n",
    "start = datetime.now()\n",
    "\n",
    "for iteration, (train_idxs, test_idxs) in enumerate(kf.split(X)):\n",
    "    print('fold number', iteration + 1)\n",
    "    X_train, X_test = X.iloc[train_idxs], X.iloc[test_idxs]\n",
    "    y_train, y_test = y[train_idxs], y[test_idxs]\n",
    "\n",
    "    prediction = compute_score(X_test, y_test, w2v, user_emb)\n",
    "    \n",
    "    word2vec_ground_truths.append(y_test)\n",
    "    word2vec_predictions.append(prediction)\n",
    "print(datetime.now() - start)"
   ]
  },
  {
   "cell_type": "code",
   "execution_count": 151,
   "metadata": {},
   "outputs": [
    {
     "name": "stdout",
     "output_type": "stream",
     "text": [
      "0.5326133873713952\n",
      "0.5218881236594162\n",
      "0.5298675120412915\n",
      "0.5118417156551709\n",
      "0.5120800676876656\n",
      "mean 0.5216581612829879\n"
     ]
    }
   ],
   "source": [
    "score_auc(word2vec_ground_truths, word2vec_predictions)"
   ]
  },
  {
   "cell_type": "markdown",
   "metadata": {},
   "source": [
    "# Stacking GBDT with Word2Vec embeddings"
   ]
  },
  {
   "cell_type": "code",
   "execution_count": 154,
   "metadata": {},
   "outputs": [],
   "source": [
    "X = train.drop(['target'], axis=1)[:50000]\n",
    "y = train['target'].values[:50000]"
   ]
  },
  {
   "cell_type": "code",
   "execution_count": 155,
   "metadata": {},
   "outputs": [
    {
     "name": "stderr",
     "output_type": "stream",
     "text": [
      "Call to deprecated `__getitem__` (Method will be removed in 4.0.0, use self.wv.__getitem__() instead).\n"
     ]
    },
    {
     "name": "stdout",
     "output_type": "stream",
     "text": [
      "(1853, 200)\n",
      "Word2Vec(vocab=1853, size=200, alpha=0.03)\n"
     ]
    }
   ],
   "source": [
    "def prepare_word2vec(X):\n",
    "    histories = extract_histories(X)\n",
    "    w2v = train_word2vec(histories)\n",
    "    user_emb = create_user_embeddings(X, w2v)\n",
    "    X['similarity'] = X[['msno', 'song_id']].apply(lambda row: similarity_distance(row['song_id'], row['msno'], w2v, user_emb), axis=1)\n",
    "    return X\n",
    "\n",
    "X_sim = prepare_word2vec(X.copy())"
   ]
  },
  {
   "cell_type": "code",
   "execution_count": 156,
   "metadata": {},
   "outputs": [
    {
     "data": {
      "text/plain": [
       "XGBClassifier(base_score=0.5, booster='gbtree', colsample_bylevel=1,\n",
       "              colsample_bynode=1, colsample_bytree=0.96, gamma=0, gpu_id=0,\n",
       "              importance_type='gain', interaction_constraints='',\n",
       "              learning_rate=0.1, max_delta_step=0, max_depth=10,\n",
       "              min_child_weight=0.25, missing=nan,\n",
       "              monotone_constraints='(0,0,0,0,0,0,0,0,0,0,0,0,0,0,0,0,0,0,0,0,0,0,0,0,0,0,0,0,0,0,0,0,0,0,0,0...0,0,0,0,0,0,0,0,0,0,0,0,0,0,0,0,0,0,0,0,0,0,0,0,0,0,0,0,0,0,0,0,0,0,0,0,0,0,0,0,0,0,0,0,0,0,0,0,0,0,0,0,0,0,0,0,0,0,0,0,0,0,0,0,0,0,0,0,0,0,0,0,0,0,0,0,0,0,0,0,0,0,0,0)',\n",
       "              n_estimators=150, n_jobs=0, num_parallel_tree=1, random_state=0,\n",
       "              reg_alpha=1, reg_lambda=1, scale_pos_weight=1, subsample=0.66,\n",
       "              tree_method='gpu_hist', validate_parameters=1, verbosity=None)"
      ]
     },
     "execution_count": 156,
     "metadata": {},
     "output_type": "execute_result"
    }
   ],
   "source": [
    "gbdt = xgb.XGBClassifier(**final_params)\n",
    "X_sim = prepare_data_for_gbdt(X_sim).values\n",
    "gbdt.fit(X_sim, y)"
   ]
  },
  {
   "cell_type": "code",
   "execution_count": 157,
   "metadata": {},
   "outputs": [
    {
     "data": {
      "image/png": "[encoded data removed]",
      "text/plain": [
       "<Figure size 576x684 with 1 Axes>"
      ]
     },
     "metadata": {
      "needs_background": "light"
     },
     "output_type": "display_data"
    }
   ],
   "source": [
    "expl = shap.TreeExplainer(gbdt)\n",
    "\n",
    "shap.summary_plot(expl.shap_values(X_sim), list(X.columns) + ['similarity'], plot_type='bar')"
   ]
  },
  {
   "cell_type": "code",
   "execution_count": 158,
   "metadata": {},
   "outputs": [
    {
     "name": "stderr",
     "output_type": "stream",
     "text": [
      "Call to deprecated `__getitem__` (Method will be removed in 4.0.0, use self.wv.__getitem__() instead).\n"
     ]
    },
    {
     "name": "stdout",
     "output_type": "stream",
     "text": [
      "(13068, 200)\n",
      "Word2Vec(vocab=13068, size=200, alpha=0.03)\n"
     ]
    }
   ],
   "source": [
    "X = train.drop(['target'], axis=1)[:500000]\n",
    "y = train['target'].values[:500000]\n",
    "\n",
    "X_sim = prepare_word2vec(X.copy())\n",
    "X_sim = prepare_data_for_gbdt(X_sim).values"
   ]
  },
  {
   "cell_type": "code",
   "execution_count": 159,
   "metadata": {},
   "outputs": [
    {
     "name": "stdout",
     "output_type": "stream",
     "text": [
      "fold number 1\n",
      "fold number 2\n",
      "fold number 3\n",
      "fold number 4\n",
      "fold number 5\n",
      "0:01:02.614166\n"
     ]
    }
   ],
   "source": [
    "# Evaluation\n",
    "kf = KFold(5)\n",
    "\n",
    "stack_ground_truths = []\n",
    "stack_predictions = []\n",
    "start = datetime.now()\n",
    "for iteration, (train_idxs, test_idxs) in enumerate(kf.split(X_sim)):\n",
    "    print('fold number', iteration + 1)\n",
    "    X_train, X_test = X_sim[train_idxs], X_sim[test_idxs]\n",
    "    y_train, y_test = y[train_idxs], y[test_idxs]\n",
    "\n",
    "    gbdt = xgb.XGBClassifier(**final_params)\n",
    "    gbdt.fit(X_train, y_train)\n",
    "    prediction = gbdt.predict(X_test)\n",
    "    \n",
    "    stack_ground_truths.append(y_test)\n",
    "    stack_predictions.append(prediction)\n",
    "print(datetime.now() - start)"
   ]
  },
  {
   "cell_type": "code",
   "execution_count": 160,
   "metadata": {},
   "outputs": [
    {
     "name": "stdout",
     "output_type": "stream",
     "text": [
      "0.6688058744167361\n",
      "0.6765992711363935\n",
      "0.6642037279145565\n",
      "0.6595314328319601\n",
      "0.6455241996258273\n",
      "mean 0.6629329011850946\n"
     ]
    }
   ],
   "source": [
    "score_auc(stack_ground_truths, stack_predictions)"
   ]
  },
  {
   "cell_type": "markdown",
   "metadata": {},
   "source": [
    "По shap_values видно, что соответствующий эмбеддинг оказывает влияние и по метрике ROC AUC -- в положительную сторону.\n",
    "\n",
    "Но переигравшись с параметрами скор упал с 0.71 до 0.65 в Xgboost :("
   ]
  }
 ],
 "metadata": {
  "kernelspec": {
   "display_name": "Python 3",
   "language": "python",
   "name": "python3"
  },
  "language_info": {
   "codemirror_mode": {
    "name": "ipython",
    "version": 3
   },
   "file_extension": ".py",
   "mimetype": "text/x-python",
   "name": "python",
   "nbconvert_exporter": "python",
   "pygments_lexer": "ipython3",
   "version": "3.7.6"
  }
 },
 "nbformat": 4,
 "nbformat_minor": 4
}
