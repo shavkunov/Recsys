{
 "cells": [
  {
   "cell_type": "code",
   "execution_count": 1,
   "metadata": {
    "ExecuteTime": {
     "end_time": "2020-10-25T00:11:38.280512Z",
     "start_time": "2020-10-25T00:11:38.261841Z"
    }
   },
   "outputs": [],
   "source": [
    "import pandas as pd\n",
    "import numpy as np\n",
    "import xgboost as xgb\n",
    "from catboost import CatBoostClassifier\n",
    "from sklearn.model_selection import train_test_split\n",
    "import time"
   ]
  },
  {
   "cell_type": "code",
   "execution_count": 2,
   "metadata": {
    "ExecuteTime": {
     "end_time": "2020-10-25T00:18:24.834113Z",
     "start_time": "2020-10-25T00:11:38.282034Z"
    }
   },
   "outputs": [
    {
     "data": {
      "text/html": [
       "<div>\n",
       "<style scoped>\n",
       "    .dataframe tbody tr th:only-of-type {\n",
       "        vertical-align: middle;\n",
       "    }\n",
       "\n",
       "    .dataframe tbody tr th {\n",
       "        vertical-align: top;\n",
       "    }\n",
       "\n",
       "    .dataframe thead th {\n",
       "        text-align: right;\n",
       "    }\n",
       "</style>\n",
       "<table border=\"1\" class=\"dataframe\">\n",
       "  <thead>\n",
       "    <tr style=\"text-align: right;\">\n",
       "      <th></th>\n",
       "      <th>msno</th>\n",
       "      <th>song_id</th>\n",
       "      <th>source_system_tab</th>\n",
       "      <th>source_screen_name</th>\n",
       "      <th>source_type</th>\n",
       "      <th>target</th>\n",
       "    </tr>\n",
       "  </thead>\n",
       "  <tbody>\n",
       "    <tr>\n",
       "      <th>0</th>\n",
       "      <td>FGtllVqz18RPiwJj/edr2gV78zirAiY/9SmYvia+kCg=</td>\n",
       "      <td>BBzumQNXUHKdEBOB7mAJuzok+IJA1c2Ryg/yzTF6tik=</td>\n",
       "      <td>explore</td>\n",
       "      <td>Explore</td>\n",
       "      <td>online-playlist</td>\n",
       "      <td>1</td>\n",
       "    </tr>\n",
       "  </tbody>\n",
       "</table>\n",
       "</div>"
      ],
      "text/plain": [
       "                                           msno  \\\n",
       "0  FGtllVqz18RPiwJj/edr2gV78zirAiY/9SmYvia+kCg=   \n",
       "\n",
       "                                        song_id source_system_tab  \\\n",
       "0  BBzumQNXUHKdEBOB7mAJuzok+IJA1c2Ryg/yzTF6tik=           explore   \n",
       "\n",
       "  source_screen_name      source_type  target  \n",
       "0            Explore  online-playlist       1  "
      ]
     },
     "execution_count": 2,
     "metadata": {},
     "output_type": "execute_result"
    }
   ],
   "source": [
    "train = pd.read_csv('train.csv')\n",
    "test = pd.read_csv('test.csv')\n",
    "train.head(1)"
   ]
  },
  {
   "cell_type": "code",
   "execution_count": 3,
   "metadata": {
    "ExecuteTime": {
     "end_time": "2020-10-25T00:18:24.932082Z",
     "start_time": "2020-10-25T00:18:24.836082Z"
    }
   },
   "outputs": [
    {
     "data": {
      "text/html": [
       "<div>\n",
       "<style scoped>\n",
       "    .dataframe tbody tr th:only-of-type {\n",
       "        vertical-align: middle;\n",
       "    }\n",
       "\n",
       "    .dataframe tbody tr th {\n",
       "        vertical-align: top;\n",
       "    }\n",
       "\n",
       "    .dataframe thead th {\n",
       "        text-align: right;\n",
       "    }\n",
       "</style>\n",
       "<table border=\"1\" class=\"dataframe\">\n",
       "  <thead>\n",
       "    <tr style=\"text-align: right;\">\n",
       "      <th></th>\n",
       "      <th>msno</th>\n",
       "      <th>city</th>\n",
       "      <th>bd</th>\n",
       "      <th>gender</th>\n",
       "      <th>registered_via</th>\n",
       "      <th>registration_init_time</th>\n",
       "      <th>expiration_date</th>\n",
       "    </tr>\n",
       "  </thead>\n",
       "  <tbody>\n",
       "    <tr>\n",
       "      <th>0</th>\n",
       "      <td>XQxgAYj3klVKjR3oxPPXYYFp4soD4TuBghkhMTD4oTw=</td>\n",
       "      <td>1</td>\n",
       "      <td>0</td>\n",
       "      <td>NaN</td>\n",
       "      <td>7</td>\n",
       "      <td>20110820</td>\n",
       "      <td>20170920</td>\n",
       "    </tr>\n",
       "  </tbody>\n",
       "</table>\n",
       "</div>"
      ],
      "text/plain": [
       "                                           msno  city  bd gender  \\\n",
       "0  XQxgAYj3klVKjR3oxPPXYYFp4soD4TuBghkhMTD4oTw=     1   0    NaN   \n",
       "\n",
       "   registered_via  registration_init_time  expiration_date  \n",
       "0               7                20110820         20170920  "
      ]
     },
     "execution_count": 3,
     "metadata": {},
     "output_type": "execute_result"
    }
   ],
   "source": [
    "members = pd.read_csv('members.csv')\n",
    "members.head(1)"
   ]
  },
  {
   "cell_type": "code",
   "execution_count": 4,
   "metadata": {
    "ExecuteTime": {
     "end_time": "2020-10-25T00:18:30.807201Z",
     "start_time": "2020-10-25T00:18:24.935082Z"
    }
   },
   "outputs": [],
   "source": [
    "def process_date(df, columns):\n",
    "    for column in columns:\n",
    "        df[column + '_year'] = df[column].apply(lambda x: int(str(x)[0:4]))\n",
    "        df[column + '_month'] = df[column].apply(lambda x: int(str(x)[4:6]))\n",
    "        df[column + '_date'] = df[column].apply(lambda x: int(str(x)[6:8]))\n",
    "        \n",
    "    df.drop(columns, axis=1, inplace=True)\n",
    "    return df\n",
    "\n",
    "members = process_date(members, ['registration_init_time', 'expiration_date'])\n",
    "\n",
    "train = train.merge(members, on='msno', how='left')\n",
    "test = test.merge(members, on='msno', how='left')\n",
    "del members"
   ]
  },
  {
   "cell_type": "code",
   "execution_count": 5,
   "metadata": {
    "ExecuteTime": {
     "end_time": "2020-10-25T00:18:35.111169Z",
     "start_time": "2020-10-25T00:18:30.809164Z"
    }
   },
   "outputs": [
    {
     "data": {
      "text/html": [
       "<div>\n",
       "<style scoped>\n",
       "    .dataframe tbody tr th:only-of-type {\n",
       "        vertical-align: middle;\n",
       "    }\n",
       "\n",
       "    .dataframe tbody tr th {\n",
       "        vertical-align: top;\n",
       "    }\n",
       "\n",
       "    .dataframe thead th {\n",
       "        text-align: right;\n",
       "    }\n",
       "</style>\n",
       "<table border=\"1\" class=\"dataframe\">\n",
       "  <thead>\n",
       "    <tr style=\"text-align: right;\">\n",
       "      <th></th>\n",
       "      <th>song_id</th>\n",
       "      <th>song_length</th>\n",
       "      <th>genre_ids</th>\n",
       "      <th>artist_name</th>\n",
       "      <th>composer</th>\n",
       "      <th>lyricist</th>\n",
       "      <th>language</th>\n",
       "    </tr>\n",
       "  </thead>\n",
       "  <tbody>\n",
       "    <tr>\n",
       "      <th>0</th>\n",
       "      <td>CXoTN1eb7AI+DntdU1vbcwGRV4SCIDxZu+YD8JP8r4E=</td>\n",
       "      <td>247640</td>\n",
       "      <td>465</td>\n",
       "      <td>張信哲 (Jeff Chang)</td>\n",
       "      <td>董貞</td>\n",
       "      <td>何啟弘</td>\n",
       "      <td>3.0</td>\n",
       "    </tr>\n",
       "  </tbody>\n",
       "</table>\n",
       "</div>"
      ],
      "text/plain": [
       "                                        song_id  song_length genre_ids  \\\n",
       "0  CXoTN1eb7AI+DntdU1vbcwGRV4SCIDxZu+YD8JP8r4E=       247640       465   \n",
       "\n",
       "        artist_name composer lyricist  language  \n",
       "0  張信哲 (Jeff Chang)       董貞      何啟弘       3.0  "
      ]
     },
     "execution_count": 5,
     "metadata": {},
     "output_type": "execute_result"
    }
   ],
   "source": [
    "songs = pd.read_csv('songs.csv')\n",
    "songs.head(1)"
   ]
  },
  {
   "cell_type": "code",
   "execution_count": 6,
   "metadata": {
    "ExecuteTime": {
     "end_time": "2020-10-25T00:18:39.952117Z",
     "start_time": "2020-10-25T00:18:35.113165Z"
    }
   },
   "outputs": [],
   "source": [
    "songs_genres = songs['genre_ids'].apply(lambda x: [int(v) for v in str(x).split('|') if v != 'nan'])"
   ]
  },
  {
   "cell_type": "code",
   "execution_count": 7,
   "metadata": {
    "ExecuteTime": {
     "end_time": "2020-10-25T00:18:41.481686Z",
     "start_time": "2020-10-25T00:18:39.954100Z"
    }
   },
   "outputs": [],
   "source": [
    "unique_genres = None\n",
    "for genres in songs_genres:\n",
    "    genres = np.array(genres)\n",
    "    if unique_genres is None:\n",
    "        unique_genres = genres\n",
    "        continue\n",
    "    unique_genres = np.unique(np.concatenate([unique_genres, genres]))"
   ]
  },
  {
   "cell_type": "code",
   "execution_count": 8,
   "metadata": {
    "ExecuteTime": {
     "end_time": "2020-10-25T00:18:41.486687Z",
     "start_time": "2020-10-25T00:11:39.865Z"
    }
   },
   "outputs": [],
   "source": [
    "one_hot = np.zeros((len(songs_genres), len(unique_genres)))\n",
    "for song_id, song_genres in enumerate(songs_genres):\n",
    "    for genre in song_genres:\n",
    "        genre_id = list(unique_genres).index(genre)\n",
    "        one_hot[song_id, genre_id] = 1\n",
    "        \n",
    "for genre_id, genre in enumerate(unique_genres):\n",
    "    songs['genre_' + str(int(genre))] = one_hot[:, genre_id]"
   ]
  },
  {
   "cell_type": "code",
   "execution_count": 9,
   "metadata": {
    "ExecuteTime": {
     "end_time": "2020-10-25T00:18:41.487691Z",
     "start_time": "2020-10-25T00:11:40.558Z"
    }
   },
   "outputs": [],
   "source": [
    "songs = songs.drop(['genre_ids'], axis=1)\n",
    "\n",
    "train = train.merge(songs, on='song_id', how='left')"
   ]
  },
  {
   "cell_type": "code",
   "execution_count": 10,
   "metadata": {},
   "outputs": [
    {
     "data": {
      "text/html": [
       "<div>\n",
       "<style scoped>\n",
       "    .dataframe tbody tr th:only-of-type {\n",
       "        vertical-align: middle;\n",
       "    }\n",
       "\n",
       "    .dataframe tbody tr th {\n",
       "        vertical-align: top;\n",
       "    }\n",
       "\n",
       "    .dataframe thead th {\n",
       "        text-align: right;\n",
       "    }\n",
       "</style>\n",
       "<table border=\"1\" class=\"dataframe\">\n",
       "  <thead>\n",
       "    <tr style=\"text-align: right;\">\n",
       "      <th></th>\n",
       "      <th>song_id</th>\n",
       "      <th>name</th>\n",
       "      <th>isrc</th>\n",
       "    </tr>\n",
       "  </thead>\n",
       "  <tbody>\n",
       "    <tr>\n",
       "      <th>0</th>\n",
       "      <td>LP7pLJoJFBvyuUwvu+oLzjT+bI+UeBPURCecJsX1jjs=</td>\n",
       "      <td>我們</td>\n",
       "      <td>TWUM71200043</td>\n",
       "    </tr>\n",
       "  </tbody>\n",
       "</table>\n",
       "</div>"
      ],
      "text/plain": [
       "                                        song_id name          isrc\n",
       "0  LP7pLJoJFBvyuUwvu+oLzjT+bI+UeBPURCecJsX1jjs=   我們  TWUM71200043"
      ]
     },
     "execution_count": 10,
     "metadata": {},
     "output_type": "execute_result"
    }
   ],
   "source": [
    "extra_songs = pd.read_csv('song_extra_info.csv')\n",
    "extra_songs.head(1)"
   ]
  },
  {
   "cell_type": "code",
   "execution_count": 11,
   "metadata": {},
   "outputs": [],
   "source": [
    "def isrc_to_year(isrc):\n",
    "    if type(isrc) == str:\n",
    "        val = int(isrc[5:7])\n",
    "        if val > 17:\n",
    "            return 1900 + val\n",
    "        else:\n",
    "            return 2000 + val\n",
    "    else:\n",
    "        return np.nan\n",
    "    \n",
    "extra_songs['song_year'] = extra_songs['isrc'].apply(isrc_to_year)\n",
    "extra_songs.drop(['isrc', 'name'], axis=1, inplace=True)\n",
    "\n",
    "train = train.merge(extra_songs, on='song_id', how='left')\n",
    "del extra_songs "
   ]
  },
  {
   "cell_type": "code",
   "execution_count": 12,
   "metadata": {},
   "outputs": [],
   "source": [
    "#train = train.head(100000)"
   ]
  },
  {
   "cell_type": "code",
   "execution_count": 13,
   "metadata": {},
   "outputs": [
    {
     "data": {
      "text/plain": [
       "7377418"
      ]
     },
     "execution_count": 13,
     "metadata": {},
     "output_type": "execute_result"
    }
   ],
   "source": [
    "len(train)"
   ]
  },
  {
   "cell_type": "markdown",
   "metadata": {},
   "source": [
    "# Task 1"
   ]
  },
  {
   "cell_type": "code",
   "execution_count": 14,
   "metadata": {
    "ExecuteTime": {
     "end_time": "2020-10-25T00:18:41.489724Z",
     "start_time": "2020-10-25T00:11:48.715Z"
    }
   },
   "outputs": [],
   "source": [
    "train = train.fillna(0)\n",
    "\n",
    "X = train.drop(['target'], axis=1)\n",
    "y = train['target'].values"
   ]
  },
  {
   "cell_type": "code",
   "execution_count": 15,
   "metadata": {},
   "outputs": [],
   "source": [
    "for col in X.select_dtypes(include=['object']).columns:\n",
    "    X[col] = X[col].astype('category')"
   ]
  },
  {
   "cell_type": "code",
   "execution_count": 16,
   "metadata": {},
   "outputs": [],
   "source": [
    "code2song_id = dict(list(zip(X['song_id'].cat.codes, X['song_id'])))"
   ]
  },
  {
   "cell_type": "code",
   "execution_count": 17,
   "metadata": {},
   "outputs": [],
   "source": [
    "for col in X.select_dtypes(include=['category']).columns:\n",
    "    X[col] = X[col].cat.codes"
   ]
  },
  {
   "cell_type": "code",
   "execution_count": 18,
   "metadata": {},
   "outputs": [],
   "source": [
    "X_values = X.values"
   ]
  },
  {
   "cell_type": "code",
   "execution_count": 19,
   "metadata": {},
   "outputs": [],
   "source": [
    "from sklearn.utils import shuffle\n",
    "\n",
    "X_values, y = shuffle(X_values, y)"
   ]
  },
  {
   "cell_type": "code",
   "execution_count": null,
   "metadata": {},
   "outputs": [],
   "source": [
    "from sklearn.model_selection import KFold, train_test_split\n",
    "from datetime import datetime\n",
    "\n",
    "start = datetime.now()\n",
    "X_train, X_test, y_train, y_test = train_test_split(X_values, y, test_size=0.2)\n",
    "print(datetime.now() - start)"
   ]
  },
  {
   "cell_type": "code",
   "execution_count": 21,
   "metadata": {
    "ExecuteTime": {
     "end_time": "2020-10-25T00:18:41.490691Z",
     "start_time": "2020-10-25T00:11:48.922Z"
    }
   },
   "outputs": [],
   "source": [
    "# Xgboost\n",
    "params = {}\n",
    "params['objective'] = 'binary:logistic'\n",
    "params['tree_method'] = 'gpu_hist'\n",
    "params['learning_rate'] = 0.1\n",
    "params['n_estimators'] = 500\n",
    "params['predictor'] = 'gpu_predictor'\n",
    "params['eta'] = 0.75\n",
    "params['max_depth'] = 10\n",
    "params['eval_metric'] = 'auc'"
   ]
  },
  {
   "cell_type": "code",
   "execution_count": 22,
   "metadata": {},
   "outputs": [],
   "source": [
    "ml = xgb.XGBClassifier(**params)"
   ]
  },
  {
   "cell_type": "code",
   "execution_count": 23,
   "metadata": {},
   "outputs": [
    {
     "name": "stdout",
     "output_type": "stream",
     "text": [
      "0:01:59.124885\n"
     ]
    }
   ],
   "source": [
    "start = datetime.now()\n",
    "ml.fit(X_train, y_train)\n",
    "print(datetime.now() - start)"
   ]
  },
  {
   "cell_type": "code",
   "execution_count": 24,
   "metadata": {},
   "outputs": [],
   "source": [
    "prediction = ml.predict(X_test)"
   ]
  },
  {
   "cell_type": "code",
   "execution_count": 25,
   "metadata": {},
   "outputs": [
    {
     "name": "stdout",
     "output_type": "stream",
     "text": [
      "0.7116524245166352\n",
      "              precision    recall  f1-score   support\n",
      "\n",
      "           0       0.72      0.69      0.70    732231\n",
      "           1       0.71      0.73      0.72    743253\n",
      "\n",
      "    accuracy                           0.71   1475484\n",
      "   macro avg       0.71      0.71      0.71   1475484\n",
      "weighted avg       0.71      0.71      0.71   1475484\n",
      "\n"
     ]
    }
   ],
   "source": [
    "from sklearn import metrics\n",
    "from sklearn.metrics import roc_auc_score\n",
    "\n",
    "print(roc_auc_score(y_test, prediction))\n",
    "print(metrics.classification_report(y_test, prediction))"
   ]
  },
  {
   "cell_type": "code",
   "execution_count": 26,
   "metadata": {
    "ExecuteTime": {
     "end_time": "2020-10-25T00:18:41.493687Z",
     "start_time": "2020-10-25T00:11:50.331Z"
    }
   },
   "outputs": [
    {
     "name": "stdout",
     "output_type": "stream",
     "text": [
      "fold number 1\n",
      "fold number 2\n",
      "fold number 3\n",
      "fold number 4\n",
      "fold number 5\n",
      "0:12:40.328978\n"
     ]
    }
   ],
   "source": [
    "from sklearn.model_selection import KFold\n",
    "\n",
    "# Evaluation\n",
    "kf = KFold(5)\n",
    "\n",
    "ground_truths = []\n",
    "predictions = []\n",
    "start = datetime.now()\n",
    "for iteration, (train_idxs, test_idxs) in enumerate(kf.split(X)):\n",
    "    print('fold number', iteration + 1)\n",
    "    X_train, X_test = X_values[train_idxs], X_values[test_idxs]\n",
    "    y_train, y_test = y[train_idxs], y[test_idxs]\n",
    "\n",
    "    ml = xgb.XGBClassifier(**params)\n",
    "    ml.fit(X_train, y_train)\n",
    "    prediction = ml.predict(X_test)\n",
    "    \n",
    "    ground_truths.append(y_test)\n",
    "    predictions.append(prediction)\n",
    "print(datetime.now() - start)"
   ]
  },
  {
   "cell_type": "code",
   "execution_count": 27,
   "metadata": {},
   "outputs": [
    {
     "name": "stdout",
     "output_type": "stream",
     "text": [
      "0.7109350188174736\n",
      "0.7116193357529643\n",
      "0.7110302702352628\n",
      "0.7104240678080854\n",
      "0.7109987373604509\n",
      "mean 0.7110014859948474\n"
     ]
    }
   ],
   "source": [
    "from sklearn.metrics import roc_auc_score\n",
    "\n",
    "def score_auc(ground_truths, predictions):\n",
    "    aucs = []\n",
    "    for gt, pred in zip(ground_truths, predictions):\n",
    "        roc_auc = roc_auc_score(gt, pred)\n",
    "        print(roc_auc)\n",
    "        aucs.append(roc_auc)\n",
    "    mean_auc = np.mean(aucs)\n",
    "    print('mean', mean_auc)\n",
    "    \n",
    "score_auc(ground_truths, predictions)"
   ]
  },
  {
   "cell_type": "code",
   "execution_count": 30,
   "metadata": {},
   "outputs": [
    {
     "name": "stdout",
     "output_type": "stream",
     "text": [
      "0:04:17.993207\n"
     ]
    }
   ],
   "source": [
    "from catboost import CatBoostClassifier\n",
    "\n",
    "start = datetime.now()\n",
    "catboost = CatBoostClassifier(iterations=100, task_type='GPU', \n",
    "                              verbose=False, depth=16, devices='0')\n",
    "catboost.fit(X_train, y_train)\n",
    "print(datetime.now() - start)"
   ]
  },
  {
   "cell_type": "code",
   "execution_count": 31,
   "metadata": {},
   "outputs": [],
   "source": [
    "prediction = catboost.predict(X_test)"
   ]
  },
  {
   "cell_type": "code",
   "execution_count": 32,
   "metadata": {},
   "outputs": [
    {
     "name": "stdout",
     "output_type": "stream",
     "text": [
      "0.7051889900337003\n",
      "              precision    recall  f1-score   support\n",
      "\n",
      "           0       0.71      0.68      0.70    732069\n",
      "           1       0.70      0.73      0.72    743415\n",
      "\n",
      "    accuracy                           0.71   1475484\n",
      "   macro avg       0.71      0.71      0.71   1475484\n",
      "weighted avg       0.71      0.71      0.71   1475484\n",
      "\n"
     ]
    }
   ],
   "source": [
    "print(roc_auc_score(y_test, prediction))\n",
    "print(metrics.classification_report(y_test, prediction))"
   ]
  },
  {
   "cell_type": "code",
   "execution_count": 33,
   "metadata": {},
   "outputs": [
    {
     "name": "stdout",
     "output_type": "stream",
     "text": [
      "fold number 1\n",
      "fold number 2\n",
      "fold number 3\n",
      "fold number 4\n",
      "fold number 5\n",
      "0:22:54.830234\n"
     ]
    }
   ],
   "source": [
    "from sklearn.model_selection import KFold\n",
    "\n",
    "# Evaluation\n",
    "kf = KFold(5)\n",
    "\n",
    "cat_ground_truths = []\n",
    "cat_predictions = []\n",
    "start = datetime.now()\n",
    "for iteration, (train_idxs, test_idxs) in enumerate(kf.split(X)):\n",
    "    print('fold number', iteration + 1)\n",
    "    X_train, X_test = X_values[train_idxs], X_values[test_idxs]\n",
    "    y_train, y_test = y[train_idxs], y[test_idxs]\n",
    "\n",
    "    catboost = CatBoostClassifier(n_estimators=600, task_type='GPU', verbose=False)\n",
    "    catboost.fit(X_train, y_train)\n",
    "    prediction = catboost.predict(X_test)\n",
    "    \n",
    "    cat_ground_truths.append(y_test)\n",
    "    cat_predictions.append(prediction)\n",
    "print(datetime.now() - start)"
   ]
  },
  {
   "cell_type": "code",
   "execution_count": 34,
   "metadata": {},
   "outputs": [
    {
     "name": "stdout",
     "output_type": "stream",
     "text": [
      "0.641851324696947\n",
      "0.6417614445986597\n",
      "0.6420560858664655\n",
      "0.6417603580499702\n",
      "0.6417692636523153\n",
      "mean 0.6418396953728716\n"
     ]
    }
   ],
   "source": [
    "score_auc(cat_ground_truths, cat_predictions)"
   ]
  },
  {
   "cell_type": "markdown",
   "metadata": {},
   "source": [
    "# Task 2"
   ]
  },
  {
   "cell_type": "code",
   "execution_count": 150,
   "metadata": {},
   "outputs": [
    {
     "data": {
      "text/plain": [
       "Index(['msno', 'song_id', 'source_system_tab', 'source_screen_name',\n",
       "       'source_type', 'city', 'bd', 'gender', 'registered_via',\n",
       "       'registration_init_time_year',\n",
       "       ...\n",
       "       'genre_2192', 'genre_2194', 'genre_2206', 'genre_2213', 'genre_2215',\n",
       "       'genre_2219', 'genre_2238', 'genre_2245', 'genre_2248', 'song_year'],\n",
       "      dtype='object', length=212)"
      ]
     },
     "execution_count": 150,
     "metadata": {},
     "output_type": "execute_result"
    }
   ],
   "source": [
    "X.columns"
   ]
  },
  {
   "cell_type": "code",
   "execution_count": 141,
   "metadata": {},
   "outputs": [],
   "source": [
    "data = X_train[:50000]\n",
    "y_data = y_train[:50000]"
   ]
  },
  {
   "cell_type": "code",
   "execution_count": 155,
   "metadata": {},
   "outputs": [
    {
     "data": {
      "text/plain": [
       "4240"
      ]
     },
     "execution_count": 155,
     "metadata": {},
     "output_type": "execute_result"
    }
   ],
   "source": [
    "def extract_histories(X):\n",
    "    users = np.unique(X['msno'].values)\n",
    "    return [X[X['msno'] == user]['song_id'].astype(str).tolist() for user in users]\n",
    "        \n",
    "histories = extract_histories(X.head(50000))\n",
    "len(histories)"
   ]
  },
  {
   "cell_type": "code",
   "execution_count": 185,
   "metadata": {},
   "outputs": [],
   "source": [
    "from gensim.models import Word2Vec\n",
    "\n",
    "model = Word2Vec(window=10, sg=1, hs=0, size=300, negative=10, alpha=0.03, min_alpha=0.0007)\n",
    "model.build_vocab(histories, progress_per=100)"
   ]
  },
  {
   "cell_type": "code",
   "execution_count": 186,
   "metadata": {},
   "outputs": [
    {
     "data": {
      "text/plain": [
       "(258745, 500000)"
      ]
     },
     "execution_count": 186,
     "metadata": {},
     "output_type": "execute_result"
    }
   ],
   "source": [
    "model.train(histories, total_examples=model.corpus_count, epochs=10, report_delay=1)"
   ]
  },
  {
   "cell_type": "code",
   "execution_count": 187,
   "metadata": {},
   "outputs": [
    {
     "name": "stdout",
     "output_type": "stream",
     "text": [
      "(1853, 300)\n",
      "Word2Vec(vocab=1853, size=300, alpha=0.03)\n"
     ]
    },
    {
     "name": "stderr",
     "output_type": "stream",
     "text": [
      "/home/worker/.conda/envs/env/lib/python3.7/site-packages/ipykernel_launcher.py:1: DeprecationWarning: Call to deprecated `__getitem__` (Method will be removed in 4.0.0, use self.wv.__getitem__() instead).\n",
      "  \"\"\"Entry point for launching an IPython kernel.\n"
     ]
    }
   ],
   "source": [
    "print(model[model.wv.vocab].shape)\n",
    "print(model)"
   ]
  },
  {
   "cell_type": "code",
   "execution_count": 188,
   "metadata": {},
   "outputs": [],
   "source": [
    "model.init_sims(replace=True)"
   ]
  },
  {
   "cell_type": "code",
   "execution_count": 222,
   "metadata": {},
   "outputs": [
    {
     "name": "stderr",
     "output_type": "stream",
     "text": [
      "/home/worker/.conda/envs/env/lib/python3.7/site-packages/ipykernel_launcher.py:2: DeprecationWarning: Call to deprecated `__getitem__` (Method will be removed in 4.0.0, use self.wv.__getitem__() instead).\n",
      "  \n",
      "/home/worker/.conda/envs/env/lib/python3.7/site-packages/ipykernel_launcher.py:2: DeprecationWarning: Call to deprecated `similar_by_vector` (Method will be removed in 4.0.0, use self.wv.similar_by_vector() instead).\n",
      "  \n"
     ]
    },
    {
     "data": {
      "text/html": [
       "<div>\n",
       "<style scoped>\n",
       "    .dataframe tbody tr th:only-of-type {\n",
       "        vertical-align: middle;\n",
       "    }\n",
       "\n",
       "    .dataframe tbody tr th {\n",
       "        vertical-align: top;\n",
       "    }\n",
       "\n",
       "    .dataframe thead th {\n",
       "        text-align: right;\n",
       "    }\n",
       "</style>\n",
       "<table border=\"1\" class=\"dataframe\">\n",
       "  <thead>\n",
       "    <tr style=\"text-align: right;\">\n",
       "      <th></th>\n",
       "      <th>song_id</th>\n",
       "      <th>song_length</th>\n",
       "      <th>genre_ids</th>\n",
       "      <th>artist_name</th>\n",
       "      <th>composer</th>\n",
       "      <th>lyricist</th>\n",
       "      <th>language</th>\n",
       "      <th>similarity</th>\n",
       "    </tr>\n",
       "  </thead>\n",
       "  <tbody>\n",
       "    <tr>\n",
       "      <th>0</th>\n",
       "      <td>T8ZrM8qHA5EckfuOWkaACBvXTK8kc1Dfi3rxnkMSscE=</td>\n",
       "      <td>154749</td>\n",
       "      <td>465</td>\n",
       "      <td>The Age Of Innocence II</td>\n",
       "      <td>NaN</td>\n",
       "      <td>NaN</td>\n",
       "      <td>52.0</td>\n",
       "      <td>1.000000</td>\n",
       "    </tr>\n",
       "    <tr>\n",
       "      <th>1</th>\n",
       "      <td>qcVW/MncLvTIEE6d0EKb3SZNhU5qNsJ09LlRp4VY4so=</td>\n",
       "      <td>250044</td>\n",
       "      <td>465</td>\n",
       "      <td>Janet Jackson</td>\n",
       "      <td>NaN</td>\n",
       "      <td>NaN</td>\n",
       "      <td>52.0</td>\n",
       "      <td>0.998845</td>\n",
       "    </tr>\n",
       "    <tr>\n",
       "      <th>2</th>\n",
       "      <td>RL5pk3IUmdveT6HKPtkpwIaDzz81x+TCcSoxxyd2avM=</td>\n",
       "      <td>191373</td>\n",
       "      <td>465</td>\n",
       "      <td>Jason Mraz</td>\n",
       "      <td>Colbie Caillat| Jason Mraz| Timothy Fagan</td>\n",
       "      <td>NaN</td>\n",
       "      <td>52.0</td>\n",
       "      <td>0.996742</td>\n",
       "    </tr>\n",
       "    <tr>\n",
       "      <th>3</th>\n",
       "      <td>IDb1NqYAL1TVoqnfPExvRyuHq4gQ+Fsz96l1Ef8zHMk=</td>\n",
       "      <td>238840</td>\n",
       "      <td>465</td>\n",
       "      <td>Dream5</td>\n",
       "      <td>菊谷知樹</td>\n",
       "      <td>ラッキィ池田＆高木貴司</td>\n",
       "      <td>17.0</td>\n",
       "      <td>0.993482</td>\n",
       "    </tr>\n",
       "    <tr>\n",
       "      <th>4</th>\n",
       "      <td>nt+hY8boPKCRNeo7Oha7roBlTsJMhStJvKL2jJ4DPEo=</td>\n",
       "      <td>239281</td>\n",
       "      <td>465</td>\n",
       "      <td>畢書盡 (Bii)</td>\n",
       "      <td>畢書盡+天才</td>\n",
       "      <td>天才</td>\n",
       "      <td>3.0</td>\n",
       "      <td>0.992076</td>\n",
       "    </tr>\n",
       "    <tr>\n",
       "      <th>5</th>\n",
       "      <td>IY9FSyfgKX5R4wK4XUiHXNgrg3VI0/L3ORGbH5AVpCc=</td>\n",
       "      <td>330710</td>\n",
       "      <td>458</td>\n",
       "      <td>徐佳瑩 (Lala Hsu)</td>\n",
       "      <td>鄭楠</td>\n",
       "      <td>陳信延</td>\n",
       "      <td>3.0</td>\n",
       "      <td>0.991040</td>\n",
       "    </tr>\n",
       "  </tbody>\n",
       "</table>\n",
       "</div>"
      ],
      "text/plain": [
       "                                        song_id  song_length genre_ids  \\\n",
       "0  T8ZrM8qHA5EckfuOWkaACBvXTK8kc1Dfi3rxnkMSscE=       154749       465   \n",
       "1  qcVW/MncLvTIEE6d0EKb3SZNhU5qNsJ09LlRp4VY4so=       250044       465   \n",
       "2  RL5pk3IUmdveT6HKPtkpwIaDzz81x+TCcSoxxyd2avM=       191373       465   \n",
       "3  IDb1NqYAL1TVoqnfPExvRyuHq4gQ+Fsz96l1Ef8zHMk=       238840       465   \n",
       "4  nt+hY8boPKCRNeo7Oha7roBlTsJMhStJvKL2jJ4DPEo=       239281       465   \n",
       "5  IY9FSyfgKX5R4wK4XUiHXNgrg3VI0/L3ORGbH5AVpCc=       330710       458   \n",
       "\n",
       "               artist_name                                   composer  \\\n",
       "0  The Age Of Innocence II                                        NaN   \n",
       "1            Janet Jackson                                        NaN   \n",
       "2               Jason Mraz  Colbie Caillat| Jason Mraz| Timothy Fagan   \n",
       "3                   Dream5                                       菊谷知樹   \n",
       "4                畢書盡 (Bii)                                     畢書盡+天才   \n",
       "5           徐佳瑩 (Lala Hsu)                                         鄭楠   \n",
       "\n",
       "      lyricist  language  similarity  \n",
       "0          NaN      52.0    1.000000  \n",
       "1          NaN      52.0    0.998845  \n",
       "2          NaN      52.0    0.996742  \n",
       "3  ラッキィ池田＆高木貴司      17.0    0.993482  \n",
       "4           天才       3.0    0.992076  \n",
       "5          陳信延       3.0    0.991040  "
      ]
     },
     "execution_count": 222,
     "metadata": {},
     "output_type": "execute_result"
    }
   ],
   "source": [
    "def get_similars(category_code, top=5):\n",
    "    similars = model.similar_by_vector(model[category_code], topn=top + 1)\n",
    "    df = []\n",
    "    for code, similarity in similars:\n",
    "        song_id = code2song_id[int(code)]\n",
    "        info = songs[songs['song_id'] == song_id].to_dict('records')[0]\n",
    "        #print(info)\n",
    "        info['similarity'] = similarity\n",
    "        df.append(info)\n",
    "        \n",
    "    return pd.DataFrame(df)\n",
    "code = list(model.wv.vocab.items())[0][0]\n",
    "get_similars(code)"
   ]
  },
  {
   "cell_type": "code",
   "execution_count": null,
   "metadata": {},
   "outputs": [],
   "source": []
  },
  {
   "cell_type": "code",
   "execution_count": null,
   "metadata": {},
   "outputs": [],
   "source": []
  }
 ],
 "metadata": {
  "kernelspec": {
   "display_name": "Python 3",
   "language": "python",
   "name": "python3"
  },
  "language_info": {
   "codemirror_mode": {
    "name": "ipython",
    "version": 3
   },
   "file_extension": ".py",
   "mimetype": "text/x-python",
   "name": "python",
   "nbconvert_exporter": "python",
   "pygments_lexer": "ipython3",
   "version": "3.7.6"
  }
 },
 "nbformat": 4,
 "nbformat_minor": 4
}
